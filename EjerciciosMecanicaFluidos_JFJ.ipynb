{
 "cells": [
  {
   "cell_type": "markdown",
   "metadata": {},
   "source": [
    "# Ejercicios de mecánica de fluidos.\n",
    "\n",
    "### Jose Fernando Jiménez"
   ]
  },
  {
   "cell_type": "code",
   "execution_count": 1,
   "metadata": {},
   "outputs": [],
   "source": [
    "%matplotlib inline"
   ]
  },
  {
   "cell_type": "markdown",
   "metadata": {},
   "source": [
    "# Temas:\n",
    "\n",
    "- Propiedades de los fluidos\n",
    "- Estática de fluidos\n",
    "- Ecuación de Bernoulli\n",
    "- Cinemática de fluidos\n",
    "- Análisis de volúmen de control finito\n",
    "- Análisis dimensional\n",
    "- Flujo viscoso en tuberías"
   ]
  },
  {
   "cell_type": "markdown",
   "metadata": {},
   "source": [
    "# Propiedades de los fluidos"
   ]
  },
  {
   "cell_type": "markdown",
   "metadata": {},
   "source": [
    "## 1. \n",
    "\n",
    "La variación de la dencidad del agua, $\\rho$, con la temperatura, T, en el intervalo $20^{\\circ}C \\leq T \\leq 60^{\\circ}C$ está dada por la siguiente tabla:"
   ]
  },
  {
   "cell_type": "markdown",
   "metadata": {},
   "source": [
    "<img src=\"FigurasEjercicios/1_1.png\">"
   ]
  },
  {
   "cell_type": "markdown",
   "metadata": {},
   "source": [
    "Usar los datos para determinar una ecuación empírica de la forma $\\rho = c_{1} + c_{2}T+c_{3}T^{2}$ la cuál pueda ser usada para predecir la densidad en el rango indicado. Compare los valores predichos con los datos dados. Cuál es la densidad del agua a 42.1 $^{\\circ}$C?"
   ]
  },
  {
   "cell_type": "markdown",
   "metadata": {},
   "source": [
    "#### Desarrollo"
   ]
  },
  {
   "cell_type": "code",
   "execution_count": 2,
   "metadata": {},
   "outputs": [],
   "source": [
    "import numpy as np\n",
    "import pandas as pd\n",
    "import math\n",
    "import scipy\n",
    "import matplotlib.pyplot as plt\n",
    "import statsmodels.formula.api as smf"
   ]
  },
  {
   "cell_type": "code",
   "execution_count": 3,
   "metadata": {},
   "outputs": [],
   "source": [
    "# Lectura de datos\n",
    "\n",
    "dataframe = pd.read_csv('DatosEjercicios/1_1.csv')\n",
    "y = dataframe['Density'].values\n",
    "x = dataframe['Temperature'].values"
   ]
  },
  {
   "cell_type": "code",
   "execution_count": 4,
   "metadata": {},
   "outputs": [
    {
     "data": {
      "image/png": "[encoded data removed]",
      "text/plain": [
       "<matplotlib.figure.Figure at 0x7f841e5a4f50>"
      ]
     },
     "metadata": {
      "needs_background": "light"
     },
     "output_type": "display_data"
    }
   ],
   "source": [
    "plt.figure()\n",
    "plt.plot(x,y,'*')\n",
    "plt.xlabel(u'T [°C]')\n",
    "plt.ylabel(u'Densidad [kg/m3]')\n",
    "plt.grid()\n",
    "plt.show()"
   ]
  },
  {
   "cell_type": "code",
   "execution_count": 5,
   "metadata": {},
   "outputs": [
    {
     "name": "stdout",
     "output_type": "stream",
     "text": [
      "Coeficientes:\n",
      "[  1.00095000e+03  -5.33333333e-02  -4.09523810e-03]\n"
     ]
    }
   ],
   "source": [
    "## Obtención de coeficientes\n",
    "\n",
    "olsres2 = smf.ols(formula = 'Density ~ I(Temperature) + I(Temperature**2)', data = dataframe).fit()\n",
    "coefs = olsres2.params.get_values()\n",
    "print 'Coeficientes:'\n",
    "print coefs"
   ]
  },
  {
   "cell_type": "code",
   "execution_count": 6,
   "metadata": {},
   "outputs": [],
   "source": [
    "def calcula_densidad(Temperatura): #Temperatura en grados centígrados\n",
    "    if (Temperatura >= 20)&(Temperatura<=60):\n",
    "        densidad = coefs[0] + coefs[1] * Temperatura + coefs[2] * (Temperatura**2)\n",
    "        return densidad\n",
    "    \n",
    "    else:\n",
    "        \n",
    "        print('No se puede calcular')"
   ]
  },
  {
   "cell_type": "code",
   "execution_count": 7,
   "metadata": {},
   "outputs": [],
   "source": [
    "pred = []\n",
    "for i in range(len(x)):\n",
    "    pred.append(calcula_densidad(x[i])) \n",
    "pred = np.array(pred)"
   ]
  },
  {
   "cell_type": "code",
   "execution_count": 8,
   "metadata": {},
   "outputs": [
    {
     "data": {
      "image/png": "[encoded data removed]",
      "text/plain": [
       "<matplotlib.figure.Figure at 0x7f84458a7a50>"
      ]
     },
     "metadata": {
      "needs_background": "light"
     },
     "output_type": "display_data"
    }
   ],
   "source": [
    "plt.plot(x,pred)\n",
    "plt.plot(x,y,'*')\n",
    "plt.xlabel(u'T [°C]')\n",
    "plt.ylabel(u'Densidad [kg/m3]')\n",
    "plt.grid()"
   ]
  },
  {
   "cell_type": "code",
   "execution_count": 9,
   "metadata": {},
   "outputs": [
    {
     "name": "stdout",
     "output_type": "stream",
     "text": [
      "991.446225714 [kg/m3]\n"
     ]
    }
   ],
   "source": [
    "# Para 42.1°C\n",
    "print str(calcula_densidad(42.1))  + ' [kg/m3]'"
   ]
  },
  {
   "cell_type": "markdown",
   "metadata": {},
   "source": [
    "## 2.\n",
    "\n",
    "Desarrolle un programa para calcular la densidad de un gas ideal cuando la presión del gas se encuentra en pascales (presión absoluta), y la constante del gas está en $J/(kg K).$"
   ]
  },
  {
   "cell_type": "markdown",
   "metadata": {},
   "source": [
    "#### Desarrollo"
   ]
  },
  {
   "cell_type": "markdown",
   "metadata": {},
   "source": [
    "Para un gas ideal, la presión se define como: $ p = \\rho R T $, entonces $ \\rho = \\frac{p}{RT}$ "
   ]
  },
  {
   "cell_type": "code",
   "execution_count": 10,
   "metadata": {},
   "outputs": [],
   "source": [
    "# Creamos una función que lo resuelva\n",
    "\n",
    "def calcula_densidad(p,T,R): #presión absoluta en pascales,\n",
    "    #temperatura en grados centígrados\n",
    "    #Constante del gas en J/kg*K\n",
    "    Tk = T + 273.15 #convierte a kelvin\n",
    "    d = p/(R*Tk)\n",
    "    return d\n",
    "    "
   ]
  },
  {
   "cell_type": "code",
   "execution_count": 11,
   "metadata": {},
   "outputs": [
    {
     "name": "stdout",
     "output_type": "stream",
     "text": [
      "Densidad: 2.37715883165 kg/m3\n"
     ]
    }
   ],
   "source": [
    "#ejemplo:  presión 200*10³ Pa, temperatura 20°C, Constante del gas 287 J/kg*K\n",
    "d = calcula_densidad(200e3,20,287) \n",
    "\n",
    "print 'Densidad: '+str(d)+' kg/m3'"
   ]
  },
  {
   "cell_type": "markdown",
   "metadata": {},
   "source": [
    "## 3."
   ]
  },
  {
   "cell_type": "markdown",
   "metadata": {},
   "source": [
    "Dados los valores de viscosidad del aire para temperaturas de 0, 20, 60, 80 y 100 °C determine las constantes C y S que aparecen en la ecuación de Sutherland:"
   ]
  },
  {
   "cell_type": "markdown",
   "metadata": {},
   "source": [
    "\\begin{equation}\n",
    "    \\mu = \\frac{C T^{3/2}}{T + S}\n",
    "\\end{equation}\n",
    "\n",
    "Que se puede escribir de la forma:\n",
    "\n",
    "\\begin{equation}\n",
    "    \\frac{T^{3/2}}{\\mu} = (\\frac{1}{C}) T + \\frac{S}{C}\n",
    "\\end{equation}"
   ]
  },
  {
   "cell_type": "markdown",
   "metadata": {},
   "source": [
    "Grafique $T^{3/2} / \\mu$ contra $T$ y obtenga las constantes C y S."
   ]
  },
  {
   "cell_type": "markdown",
   "metadata": {},
   "source": [
    "#### Desarrollo"
   ]
  },
  {
   "cell_type": "code",
   "execution_count": 12,
   "metadata": {},
   "outputs": [],
   "source": [
    "# Creamos un array de temperaturas en grados centígrados\n",
    "\n",
    "T = np.array([0,20,40,60,80,100])\n",
    "\n",
    "#La temperatura en Kelvin va a ser\n",
    "\n",
    "Tk = T + 273.15\n",
    "\n",
    "#Los coeficientes de viscosidad para las temperaturas indicadas en [N*s/m2], \n",
    "#de acuerdo al libro son:\n",
    "\n",
    "mu = np.array([1.71,1.82,1.87,1.97,2.07,2.17])*(10**-5)\n",
    "\n",
    "# El valor de (T^(3/2))/(mu) en [K^(3/2) / (kg / (m/s))] es:\n",
    "\n",
    "T32_mu = (Tk**(3/2.))/mu"
   ]
  },
  {
   "cell_type": "code",
   "execution_count": 13,
   "metadata": {},
   "outputs": [
    {
     "data": {
      "image/png": "[encoded data removed]",
      "text/plain": [
       "<matplotlib.figure.Figure at 0x7f8444818a10>"
      ]
     },
     "metadata": {
      "needs_background": "light"
     },
     "output_type": "display_data"
    }
   ],
   "source": [
    "plt.plot(Tk,T32_mu,'*')\n",
    "plt.xlabel(u'T [K]')\n",
    "plt.ylabel(r'$T^{3/2}/\\mu$ [$K^{3/2}/ (kg/ms)$]',fontsize=14)\n",
    "plt.grid()"
   ]
  },
  {
   "cell_type": "markdown",
   "metadata": {},
   "source": [
    "Ahora, se aproximan los datos a un alinea recta, que puede ser representada de la forma $y=bx+a$ donde $y = T^{3/2}/\\mu$, $x = T$, $b = 1/C$, y $a = S/C$."
   ]
  },
  {
   "cell_type": "code",
   "execution_count": 14,
   "metadata": {},
   "outputs": [
    {
     "name": "stdout",
     "output_type": "stream",
     "text": [
      "a = 74467261.1314\n",
      "b = 696664.38297\n"
     ]
    }
   ],
   "source": [
    "#Realizamos la regresión y hallamos los coeficientes.\n",
    "\n",
    "Data = {'x':  Tk,\n",
    "        'y': T32_mu}\n",
    "dataframe = pd.DataFrame(Data,columns = Data.keys())\n",
    "olsres2 = smf.ols(formula = 'y ~ I(x) + I(x)', data = dataframe).fit()\n",
    "coefs = olsres2.params.get_values()\n",
    "print 'a = '+str(coefs[0])\n",
    "print 'b = '+str(coefs[1])"
   ]
  },
  {
   "cell_type": "code",
   "execution_count": 15,
   "metadata": {},
   "outputs": [],
   "source": [
    "#Calcular predicción para los datos existentes.\n",
    "pred = coefs[1]*Tk + coefs[0]"
   ]
  },
  {
   "cell_type": "code",
   "execution_count": 16,
   "metadata": {},
   "outputs": [
    {
     "data": {
      "image/png": "[encoded data removed]",
      "text/plain": [
       "<matplotlib.figure.Figure at 0x7f841c4c36d0>"
      ]
     },
     "metadata": {
      "needs_background": "light"
     },
     "output_type": "display_data"
    }
   ],
   "source": [
    "plt.plot(Tk,T32_mu,'*')\n",
    "plt.plot(Tk,pred,label= u'regresión')\n",
    "plt.xlabel(u'T [K]')\n",
    "plt.ylabel(r'$T^{3/2}/\\mu$ [$K^{3/2}/ (kg/ms)$]',fontsize=14)\n",
    "plt.legend()\n",
    "plt.grid()"
   ]
  },
  {
   "cell_type": "markdown",
   "metadata": {},
   "source": [
    "Con C = 1/b y S = a*C, se tiene:"
   ]
  },
  {
   "cell_type": "code",
   "execution_count": 17,
   "metadata": {},
   "outputs": [
    {
     "name": "stdout",
     "output_type": "stream",
     "text": [
      "C = 1.43541140389e-06 [kg / (m s K^{1/2})]\n",
      "S = 106.891155845 [K]\n"
     ]
    }
   ],
   "source": [
    "C = 1/ coefs[1]\n",
    "print 'C = '+str(1/ coefs[1])+r' [kg / (m s K^{1/2})]'\n",
    "print 'S = '+str(coefs[0] * C)+r' [K]'"
   ]
  },
  {
   "cell_type": "markdown",
   "metadata": {},
   "source": [
    "## 4."
   ]
  },
  {
   "cell_type": "markdown",
   "metadata": {},
   "source": [
    "Aire en condiciones estándar pasa a través de una superficie plana, las medidas de velocidad cerca a la superficie indican la siguiente distribución:"
   ]
  },
  {
   "cell_type": "markdown",
   "metadata": {},
   "source": [
    "<img src=\"FigurasEjercicios/1_4.png\">"
   ]
  },
  {
   "cell_type": "markdown",
   "metadata": {},
   "source": [
    "La coordenada y se mide normal a la superficie y u es la velocidad paralela a la superficie.\n",
    "\n",
    "- Asuma que la distribución de velocidades es de la forma $u = C1 y + C2 y^{3}$, determine las constantes C1 y C2.\n",
    "- Determine la magnitud del esfuerzo cortante en la placa (y=0) y en y=0.05 ft.\n"
   ]
  },
  {
   "cell_type": "markdown",
   "metadata": {},
   "source": [
    "#### Desarrollo"
   ]
  },
  {
   "cell_type": "code",
   "execution_count": 18,
   "metadata": {},
   "outputs": [],
   "source": [
    "# tenemos que y es igual a:\n",
    "y = np.array([0.005,0.01,0.02,0.04,0.06,0.08])\n",
    "# u:\n",
    "u = np.array([0.74,1.51,3.03,6.37,10.21,14.43])"
   ]
  },
  {
   "cell_type": "code",
   "execution_count": 19,
   "metadata": {},
   "outputs": [
    {
     "name": "stdout",
     "output_type": "stream",
     "text": [
      "C1 = 152.992370948 s^-1\n",
      "C2 = 4345.36251379 ft^-2 s^-1\n"
     ]
    }
   ],
   "source": [
    "#Realizamos la regresión y hallamos los coeficientes.\n",
    "\n",
    "Data = {'y':  y,\n",
    "        'u': u}\n",
    "dataframe = pd.DataFrame(Data,columns = Data.keys())\n",
    "olsres2 = smf.ols(formula = 'u ~ I(y) + I(y**3) - 1', data = dataframe).fit() \n",
    "#el -1 es para indicar que es sin intercepto\n",
    "coefs = olsres2.params.get_values()\n",
    "\n",
    "\n",
    "C1 = coefs[0]\n",
    "C2 = coefs[1]\n",
    "print 'C1 = '+str(C1)+' s^-1'\n",
    "print 'C2 = '+str(C2)+' ft^-2 s^-1'"
   ]
  },
  {
   "cell_type": "markdown",
   "metadata": {},
   "source": [
    "El esfuerzo cortante se define como:\n",
    "\n",
    "\\begin{equation}\n",
    "    \\tau = \\mu \\frac{du}{dy}\n",
    "\\end{equation}\n",
    "\n",
    "de donde se deriva:\n",
    "\n",
    "\\begin{equation}\n",
    "    \\tau = \\mu (C1 + 3 C2 y^{2})\n",
    "\\end{equation}"
   ]
  },
  {
   "cell_type": "code",
   "execution_count": 20,
   "metadata": {},
   "outputs": [],
   "source": [
    "#para y = 0, asumiendo una viscosidad de 3.74*10^-7 lb*s/ft2 \n",
    "\n",
    "tau0 = 3.74*(10**-7) * (C1 + 3*C2*(0**2))\n",
    "tau005 = 3.74*(10**-7) * (C1 + 3*C2*(0.05**2))"
   ]
  },
  {
   "cell_type": "code",
   "execution_count": 21,
   "metadata": {},
   "outputs": [
    {
     "name": "stdout",
     "output_type": "stream",
     "text": [
      "En y=0 el esfuerzo cortante es:\n",
      "5.72191467345e-05 lb/ft2\n"
     ]
    }
   ],
   "source": [
    "print 'En y=0 el esfuerzo cortante es:'\n",
    "print str(tau0) + ' lb/ft2'"
   ]
  },
  {
   "cell_type": "code",
   "execution_count": 22,
   "metadata": {
    "scrolled": true
   },
   "outputs": [
    {
     "name": "stdout",
     "output_type": "stream",
     "text": [
      "En y=0.05 ft el esfuerzo cortante es:\n",
      "6.94078885857e-05 lb/ft2\n"
     ]
    }
   ],
   "source": [
    "print 'En y=0.05 ft el esfuerzo cortante es:'\n",
    "print str(tau005) + ' lb/ft2'"
   ]
  },
  {
   "cell_type": "markdown",
   "metadata": {},
   "source": [
    "## 5."
   ]
  },
  {
   "cell_type": "markdown",
   "metadata": {},
   "source": [
    "Se obtuvieron datos de torque y velocidad angular con un viscosímetro como el que se muestra a continuacion:"
   ]
  },
  {
   "cell_type": "markdown",
   "metadata": {},
   "source": [
    "<img src=\"FigurasEjercicios/1_5.png\">"
   ]
  },
  {
   "cell_type": "markdown",
   "metadata": {},
   "source": [
    "Los datos obtenidos son los siguientes:"
   ]
  },
  {
   "cell_type": "markdown",
   "metadata": {},
   "source": [
    "<img src=\"FigurasEjercicios/1_5_2.png\">"
   ]
  },
  {
   "cell_type": "markdown",
   "metadata": {},
   "source": [
    "Las medidas del viscosímetro son $R_{0} = 2.5 in$, $R_{i}=2.45 in$, y $l = 5.0 in$. Determine la viscosidad del líquido contenido en el viscosímetro."
   ]
  },
  {
   "cell_type": "markdown",
   "metadata": {},
   "source": [
    "#### Desarrollo"
   ]
  },
  {
   "cell_type": "markdown",
   "metadata": {},
   "source": [
    "El torque, $\\tau$, se relaciona con la velocidad angular, \\omega, a partir de la ecuación:"
   ]
  },
  {
   "cell_type": "markdown",
   "metadata": {},
   "source": [
    "\\begin{equation}\n",
    "    \\tau = \\frac{2 \\pi R_{i}^{3} l \\mu}{R_{0}-R_{i}} \\omega\n",
    "\\end{equation}"
   ]
  },
  {
   "cell_type": "markdown",
   "metadata": {},
   "source": [
    "Entonces, para una geometría fija, y una viscosidad constante, la expresión anterior se puede mostrar de la forma:"
   ]
  },
  {
   "cell_type": "markdown",
   "metadata": {},
   "source": [
    "\\begin{equation}\n",
    "    y = b x\n",
    "\\end{equation}\n",
    "\n",
    "con $y = \\tau$ y $x= \\omega$\n",
    "\n",
    "Donde b es una constante igual a:\n",
    "\n",
    "\\begin{equation}\n",
    "    b = \\frac{2 \\pi R_{i}^{3} l \\mu}{R_{0}-R_{i}}\n",
    "\\end{equation}"
   ]
  },
  {
   "cell_type": "markdown",
   "metadata": {},
   "source": [
    "Se obtiene b a partir de una regresión lineal, "
   ]
  },
  {
   "cell_type": "code",
   "execution_count": 23,
   "metadata": {},
   "outputs": [],
   "source": [
    "torque = np.array([13.1,26.0,39.5,52.7,64.9,78.6])\n",
    "w = np.array([1,2,3,4,5,6])\n"
   ]
  },
  {
   "cell_type": "code",
   "execution_count": 24,
   "metadata": {},
   "outputs": [
    {
     "name": "stdout",
     "output_type": "stream",
     "text": [
      "b = 13.0824175824 ft * lb * s\n"
     ]
    }
   ],
   "source": [
    "#Realizamos la regresión y hallamos los coeficientes.\n",
    "\n",
    "Data = {'x':  w,\n",
    "        'y': torque}\n",
    "dataframe = pd.DataFrame(Data,columns = Data.keys())\n",
    "olsres2 = smf.ols(formula = 'y ~ I(x) - 1', data = dataframe).fit() \n",
    "#el -1 es para indicar que es sin intercepto\n",
    "coefs = olsres2.params.get_values()\n",
    "\n",
    "\n",
    "b = coefs[0]\n",
    "print 'b = '+str(b)+' ft * lb * s'"
   ]
  },
  {
   "cell_type": "markdown",
   "metadata": {},
   "source": [
    "Ahora se debe despejar de la expresión para $b$ el valor de $\\mu$."
   ]
  },
  {
   "cell_type": "markdown",
   "metadata": {},
   "source": [
    "\\begin{equation}\n",
    "    \\mu = \\frac{b (R_{0}-R_{i})}{2 \\pi R_{i}^{3} l}\n",
    "\\end{equation}"
   ]
  },
  {
   "cell_type": "markdown",
   "metadata": {},
   "source": [
    "de esa manera,"
   ]
  },
  {
   "cell_type": "code",
   "execution_count": 25,
   "metadata": {},
   "outputs": [],
   "source": [
    "mu = (b)*((2.5-2.45)/12)/(2*np.pi*((2.45/12)**3)*(5/12.))"
   ]
  },
  {
   "cell_type": "code",
   "execution_count": 26,
   "metadata": {},
   "outputs": [
    {
     "name": "stdout",
     "output_type": "stream",
     "text": [
      "El valor de la viscosidad para el fluido es: 2.44654734258 [lb s ft^-2]\n"
     ]
    }
   ],
   "source": [
    "print 'El valor de la viscosidad para el fluido es: ' + str(mu) +\\\n",
    "    ' [lb s ft^-2]'"
   ]
  },
  {
   "cell_type": "markdown",
   "metadata": {},
   "source": [
    "## 6."
   ]
  },
  {
   "cell_type": "markdown",
   "metadata": {},
   "source": [
    "Desarrolle un algoritmo para calcular la presión manométrica final de un gas cuando se tiene la presión inicial, los volúmenes iniciales y finales, la presión atmosférica, y se sabe si el proceso es isotérmico o isentrópico. (todo en sistema inglés)"
   ]
  },
  {
   "cell_type": "markdown",
   "metadata": {},
   "source": [
    "#### Desarrollo"
   ]
  },
  {
   "cell_type": "markdown",
   "metadata": {},
   "source": [
    "Para compresión o expansión,\n",
    "\n",
    "\\begin{equation}\n",
    "    \\frac{p}{\\rho^{k}} = constante\n",
    "\\end{equation}\n",
    "\n",
    "donde $k=1$ para un proceso isotérmico, y $k= tasa \\, de \\, calor \\, específico$ para proceso isentrópico. Entonces,\n",
    "\n",
    "\n",
    "\\begin{equation}\n",
    "    \\frac{p_{i}}{\\rho_{i}^{k}} = \\frac{p_{f}}{\\rho_{f}^{k}}\n",
    "\\end{equation}\n",
    "\n",
    "Donde $i$ indica el estado incial, y $f$ el estado final, de esta forma:\n",
    "\n",
    "\\begin{equation}\n",
    "    p_{f} = (\\frac{\\rho_{f}}{\\rho_{i}})^{k} p_{i}\n",
    "\\end{equation}\n",
    "\n",
    "como $\\rho = m/V$, entonces,\n",
    "\n",
    "\\begin{equation}\n",
    "    \\frac{\\rho_{f}}{\\rho_{i}} = \\frac{V_{i}}{V_{f}}\n",
    "\\end{equation}\n",
    "\n",
    "Donde $V_{i}$, $V_{f}$, son los volúmenes iniciales y finales respectivamente, entonces se tiene que:\n",
    "\n",
    "\\begin{equation}\n",
    "    p_{fg}+p_{atm} = (\\frac{V_{i}}{V_{f}})^{k} (p_{ig}+p_{atm})\n",
    "\\end{equation}\n",
    "\n",
    "Donde g se refiere a la presión manométrica, de lo anterior, se obtiene una expresión para la presión final:\n",
    "\n",
    "\\begin{equation}\n",
    "    p_{fg} = (\\frac{V_{i}}{V_{f}})^{k} (p_{ig}+p_{atm}) - p_{atm}\n",
    "\\end{equation}"
   ]
  },
  {
   "cell_type": "code",
   "execution_count": 27,
   "metadata": {},
   "outputs": [],
   "source": [
    "# Se crea entonces una función que calcule la presión final:\n",
    "\n",
    "def calcula_presion_final(pi, vi, vf, patm, process_type='isentropico',k=None):\n",
    "    \n",
    "    ## pi presión inicial manométrica en psi\n",
    "    ## vi volumen inicial \n",
    "    ## vf volumen final\n",
    "    ## patm presión atmosférica en psi\n",
    "    ## process_type, string, \"isentropico\" o \"isotérmico\", es isentropico por defecto\n",
    "    ## Si el proceso es isotérmico, k = 1, sino, ingresar specific heat ratio\n",
    "    \n",
    "    pabsi = pi + patm\n",
    "    \n",
    "    if process_type == 'isentropico':\n",
    "        k=k\n",
    "    elif process_type == 'isotermico':\n",
    "        k=1\n",
    "    \n",
    "    pabsf = pabsi * ((vi/vf)**k)\n",
    "    \n",
    "    pf = pabsf - patm\n",
    "    \n",
    "    return pf\n",
    "    "
   ]
  },
  {
   "cell_type": "markdown",
   "metadata": {},
   "source": [
    "Se prueba el algoritmo para un caso en específico, presión inicial de 25 psi, volumen inicial de 1, volumen final de 0.3333, presión atmosférica de 14.7 psi, proceso isotérmico,"
   ]
  },
  {
   "cell_type": "code",
   "execution_count": 28,
   "metadata": {},
   "outputs": [],
   "source": [
    "pf = calcula_presion_final(25,1,0.3333,14.7,'isotermico')"
   ]
  },
  {
   "cell_type": "code",
   "execution_count": 29,
   "metadata": {},
   "outputs": [
    {
     "name": "stdout",
     "output_type": "stream",
     "text": [
      "La presión manométrica final del gas es Pf = 104.411911191 psi.\n"
     ]
    }
   ],
   "source": [
    "print 'La presión manométrica final del gas es Pf = '+str(pf)+' psi.'"
   ]
  },
  {
   "cell_type": "markdown",
   "metadata": {},
   "source": [
    "## 7."
   ]
  },
  {
   "cell_type": "markdown",
   "metadata": {},
   "source": [
    "El ascenso capilar en un tubo depende de la limpieza tanto del fluido como del tubo, normalmente, los valores de h son menores que los predichos por la ecuación:"
   ]
  },
  {
   "cell_type": "markdown",
   "metadata": {},
   "source": [
    "\\begin{equation}\n",
    "    h = \\frac{2\\sigma cos \\theta}{\\gamma} \\frac{1}{R} = \\frac{4 \\sigma cos \\theta}{\\gamma} \\frac{1}{d} \n",
    "\\end{equation}"
   ]
  },
  {
   "cell_type": "markdown",
   "metadata": {},
   "source": [
    "cuando se usan valores de $\\sigma$ y $\\theta$ para fluidos y tubos limpios. A continuación se dan algunas medidas de la altura, $h$, que una columna de agua se eleva en un tubo vertical abierto de diámetro d. El agua es de grifo a una temperatura de 60°F, el tubo no fue limpiado antes de las medidas.\n",
    "\n",
    "Ajuste una curva a los datos y estime el valor del producto $\\sigma cos \\theta$. Si se asume un valor de $\\sigma$ de $5.03 10^{-3} lb/ft$, cuál sería el valor de $\\theta$?. Si se asume que $\\theta = 0$°, cuál es el valor de $\\sigma$?   "
   ]
  },
  {
   "cell_type": "markdown",
   "metadata": {},
   "source": [
    "<img src=\"FigurasEjercicios/1_7.png\">"
   ]
  },
  {
   "cell_type": "markdown",
   "metadata": {},
   "source": [
    "#### Desarrollo"
   ]
  },
  {
   "cell_type": "markdown",
   "metadata": {},
   "source": [
    "La ecuación anterior se puede escribir de la forma $h = b d'$, donde:\n",
    "\n",
    "\\begin{equation}\n",
    "    b = \\frac{4 \\sigma cos \\theta}{\\gamma}\n",
    "\\end{equation}\n",
    "\n",
    "y, \n",
    "\n",
    "\\begin{equation}\n",
    "    d' = \\frac{1}{d}\n",
    "\\end{equation}"
   ]
  },
  {
   "cell_type": "code",
   "execution_count": 30,
   "metadata": {},
   "outputs": [],
   "source": [
    "d = np.array([0.3,0.25,0.2,0.15,0.1,0.05])/12. #En pies.\n",
    "h = np.array([0.133,0.165,0.198,0.273,0.421,0.796])/12. #En pies"
   ]
  },
  {
   "cell_type": "code",
   "execution_count": 31,
   "metadata": {},
   "outputs": [],
   "source": [
    "dp = 1/d"
   ]
  },
  {
   "cell_type": "markdown",
   "metadata": {},
   "source": [
    "Se ajusta una regresión de la forma y = bx para obtener la pendiente b."
   ]
  },
  {
   "cell_type": "code",
   "execution_count": 32,
   "metadata": {},
   "outputs": [
    {
     "name": "stdout",
     "output_type": "stream",
     "text": [
      "b = 0.000279886074378 ft^2\n"
     ]
    }
   ],
   "source": [
    "#Realizamos la regresión y hallamos los coeficientes.\n",
    "\n",
    "Data = {'dp':  dp,\n",
    "        'h': h}\n",
    "dataframe = pd.DataFrame(Data,columns = Data.keys())\n",
    "olsres2 = smf.ols(formula = 'h ~ I(dp) - 1', data = dataframe).fit() \n",
    "#el -1 es para indicar que es sin intercepto\n",
    "coefs = olsres2.params.get_values()\n",
    "\n",
    "\n",
    "b = coefs[0]\n",
    "print 'b = '+str(b)+' ft^2'\n",
    "\n",
    "pred = dp*b"
   ]
  },
  {
   "cell_type": "code",
   "execution_count": 33,
   "metadata": {},
   "outputs": [
    {
     "data": {
      "image/png": "[encoded data removed]",
      "text/plain": [
       "<matplotlib.figure.Figure at 0x7f8444818f90>"
      ]
     },
     "metadata": {
      "needs_background": "light"
     },
     "output_type": "display_data"
    }
   ],
   "source": [
    "plt.plot(dp,h,'*')\n",
    "plt.plot(dp,pred,label= u'regresión')\n",
    "plt.xlabel(u'dp [1/ft]')\n",
    "plt.ylabel(r'h [ft]',fontsize=14)\n",
    "plt.legend()\n",
    "plt.grid()"
   ]
  },
  {
   "cell_type": "markdown",
   "metadata": {},
   "source": [
    "De esa manera, \n",
    "\n",
    "\\begin{equation}\n",
    "    \\sigma cos \\theta = \\frac{b \\gamma}{4}\n",
    "\\end{equation}"
   ]
  },
  {
   "cell_type": "code",
   "execution_count": 34,
   "metadata": {},
   "outputs": [
    {
     "name": "stdout",
     "output_type": "stream",
     "text": [
      "Igual a:\n",
      "0.00436622276029 lb/ft\n"
     ]
    }
   ],
   "source": [
    "print 'Igual a:'\n",
    "\n",
    "sigmacostheta = b * 62.4/4\n",
    "\n",
    "print str(sigmacostheta) + ' lb/ft'"
   ]
  },
  {
   "cell_type": "markdown",
   "metadata": {},
   "source": [
    "Si $\\sigma$ = $5.03 x10^{-3} lb/ft$,"
   ]
  },
  {
   "cell_type": "code",
   "execution_count": 35,
   "metadata": {},
   "outputs": [
    {
     "name": "stdout",
     "output_type": "stream",
     "text": [
      "theta igual a:\n",
      "29.768755479°\n"
     ]
    }
   ],
   "source": [
    "print 'theta igual a:'\n",
    "\n",
    "theta = np.degrees(np.arccos(sigmacostheta/(5.03*(10**-3))))\n",
    "\n",
    "print str(theta)+ '°'\n"
   ]
  },
  {
   "cell_type": "markdown",
   "metadata": {},
   "source": [
    "Si $\\theta = 0$°, entonces $cos \\theta = 1$, y $\\sigma = \\sigma cos \\theta$ "
   ]
  },
  {
   "cell_type": "markdown",
   "metadata": {},
   "source": [
    "# Estática"
   ]
  },
  {
   "cell_type": "markdown",
   "metadata": {},
   "source": [
    "## 1."
   ]
  },
  {
   "cell_type": "markdown",
   "metadata": {},
   "source": [
    "En un líquido en reposo, se tomaron medidas de peso específico a varias profundidades, como se muestra en la siguiente tabla:"
   ]
  },
  {
   "cell_type": "markdown",
   "metadata": {},
   "source": [
    "<img src=\"FigurasEjercicios/2_1.png\">\n",
    "<img src=\"FigurasEjercicios/2_1_1.png\">"
   ]
  },
  {
   "cell_type": "markdown",
   "metadata": {},
   "source": [
    "La profundidad h=0, corresponde a la superficie libre, a presión atmosférica. Determine, a través de integración numérica de la ecuación siguiente, la correspondiente variación en la presión, y muestre los resultados en una gráfica de presión (psf) versus profundidad (ft)."
   ]
  },
  {
   "cell_type": "markdown",
   "metadata": {},
   "source": [
    "\\begin{equation}\n",
    "    \\frac{dp}{dz} = -\\gamma\n",
    "\\end{equation}"
   ]
  },
  {
   "cell_type": "markdown",
   "metadata": {},
   "source": [
    "#### Desarrollo"
   ]
  },
  {
   "cell_type": "markdown",
   "metadata": {},
   "source": [
    "<img src=\"FigurasEjercicios/2_1_2.png\">"
   ]
  },
  {
   "cell_type": "markdown",
   "metadata": {},
   "source": [
    "Definimos $z = h_{0} - h$, de manera que $dz = -dh$, de esta manera, \n",
    "\n",
    "\\begin{equation}\n",
    "    dp = -\\gamma dz = \\gamma dh\n",
    "\\end{equation}\n",
    "\n",
    "Así,\n",
    "\n",
    "\\begin{equation}\n",
    "    \\int_{0}^{pi} dp = \\int_{0}^{hi} \\gamma dh\n",
    "\\end{equation}\n",
    "\n",
    "\\begin{equation}\n",
    "    p_{i} = \\int_{0}^{hi} \\gamma dh\n",
    "\\end{equation}\n",
    "\n",
    "Donde $p_{i}$ es la presión a la profundidad $h_{i}$."
   ]
  },
  {
   "cell_type": "code",
   "execution_count": 36,
   "metadata": {},
   "outputs": [],
   "source": [
    "h = np.arange(0,101,10)\n",
    "gamma = np.array([70,76,84,91,97,102,107,110,112,114,115])"
   ]
  },
  {
   "cell_type": "code",
   "execution_count": 37,
   "metadata": {},
   "outputs": [
    {
     "data": {
      "image/png": "[encoded data removed]",
      "text/plain": [
       "<matplotlib.figure.Figure at 0x7f841c55b650>"
      ]
     },
     "metadata": {
      "needs_background": "light"
     },
     "output_type": "display_data"
    }
   ],
   "source": [
    "plt.plot(gamma,h)\n",
    "plt.gca().invert_yaxis()\n",
    "plt.grid()\n",
    "plt.xlabel(u'Peso específico [lb/ft3]')\n",
    "plt.ylabel(u'Profundidad [ft]')\n",
    "plt.show()"
   ]
  },
  {
   "cell_type": "code",
   "execution_count": 38,
   "metadata": {},
   "outputs": [
    {
     "name": "stdout",
     "output_type": "stream",
     "text": [
      "h [ft], presión [psf]\n",
      "0 ,  0.0\n",
      "10 ,  730.0\n",
      "20 ,  1530.0\n",
      "30 ,  2405.0\n",
      "40 ,  3345.0\n",
      "50 ,  4340.0\n",
      "60 ,  5385.0\n",
      "70 ,  6470.0\n",
      "80 ,  7580.0\n",
      "90 ,  8710.0\n",
      "100 ,  9855.0\n"
     ]
    }
   ],
   "source": [
    "#Se integra la última expresión hasta cada h, desde 0 hasta 100 ft.\n",
    "\n",
    "presion = []\n",
    "print u'h [ft], presión [psf]'\n",
    "for i in range(len(gamma)):\n",
    "    presion.append(np.trapz(gamma[:i+1],h[:i+1]))\n",
    "    print str(h[i]),', ', str(np.trapz(gamma[:i+1],h[:i+1]))\n",
    "    \n",
    "presion = np.array(presion)"
   ]
  },
  {
   "cell_type": "code",
   "execution_count": 39,
   "metadata": {},
   "outputs": [
    {
     "data": {
      "image/png": "[encoded data removed]",
      "text/plain": [
       "<matplotlib.figure.Figure at 0x7f841c503750>"
      ]
     },
     "metadata": {
      "needs_background": "light"
     },
     "output_type": "display_data"
    }
   ],
   "source": [
    "plt.plot(presion,h)\n",
    "plt.plot(presion,h,'*')\n",
    "plt.gca().invert_yaxis()\n",
    "plt.grid()\n",
    "plt.xlabel(u'Presión [psf]')\n",
    "plt.ylabel(u'Profundidad [ft]')\n",
    "plt.show()"
   ]
  },
  {
   "cell_type": "markdown",
   "metadata": {},
   "source": [
    "## 2."
   ]
  },
  {
   "cell_type": "markdown",
   "metadata": {},
   "source": [
    "Bajo condiciones normales la temperatura de la atmósfera disminuye con la elevación, en algunas situaciones, se presenta inversión de la temperatura, cuando esta aumenta con la altura. Una serie de temperatura y altura en una montaña se muestra en la tabla a continuación. Si la presión barométrica en la base de la montaña es 12.1 psia, determine a través de integración numérica la presión en el tope de la montaña."
   ]
  },
  {
   "cell_type": "markdown",
   "metadata": {},
   "source": [
    "<img src=\"FigurasEjercicios/2_2.png\">"
   ]
  },
  {
   "cell_type": "markdown",
   "metadata": {},
   "source": [
    "#### Desarrollo"
   ]
  },
  {
   "cell_type": "markdown",
   "metadata": {},
   "source": [
    "Para gases ideales, se tiene la siguiente relación:"
   ]
  },
  {
   "cell_type": "markdown",
   "metadata": {},
   "source": [
    "\\begin{equation}\n",
    "    ln \\frac{p2}{p1} = - \\frac{g}{R} \\int_{z1}^{z2} \\frac{dz}{T}\n",
    "\\end{equation}"
   ]
  },
  {
   "cell_type": "markdown",
   "metadata": {},
   "source": [
    "Calculamos la siguiente integral entonces para el tope de la montaña:\n",
    "\\begin{equation}\n",
    "    \\int_{5000}^{9900} \\frac{dz}{T}\n",
    "\\end{equation}"
   ]
  },
  {
   "cell_type": "code",
   "execution_count": 40,
   "metadata": {},
   "outputs": [],
   "source": [
    "z = np.array([5000,5500,6000,6400,7100,7400,8200,8600,9200,9900])\n",
    "T = np.array([50.1,55.2,60.3,62.6,67.0,68.4,70.0,69.5,68.0,67.1])"
   ]
  },
  {
   "cell_type": "code",
   "execution_count": 41,
   "metadata": {},
   "outputs": [],
   "source": [
    "# Convertimos T a grados Rankine, para realizar la integral.\n",
    "\n",
    "T = T+459.57"
   ]
  },
  {
   "cell_type": "markdown",
   "metadata": {},
   "source": [
    "Si definimos $Y =  1/T$, entonces, se calcula la integral de la siguiente manera:"
   ]
  },
  {
   "cell_type": "code",
   "execution_count": 42,
   "metadata": {},
   "outputs": [],
   "source": [
    "integral = np.trapz(1/T,z)"
   ]
  },
  {
   "cell_type": "code",
   "execution_count": 43,
   "metadata": {},
   "outputs": [
    {
     "name": "stdout",
     "output_type": "stream",
     "text": [
      "La integral para el tope de la montaña es: 9.34665207655 ft/°R\n"
     ]
    }
   ],
   "source": [
    "print 'La integral para el tope de la montaña es: ' + str(integral)+' ft/°R'"
   ]
  },
  {
   "cell_type": "markdown",
   "metadata": {},
   "source": [
    "Si asumimos la gravedad $g = 32.2 ft/s^{2}$ y $R = 1716 \\frac{ft \\, lb}{slug \\, ^{\\circ}R}$, se tiene que:\n",
    "\n",
    "\\begin{equation}\n",
    "    ln \\frac{p2}{p1} = - \\frac{32.2}{1716} \\int_{z1}^{z2} \\frac{dz}{T}\n",
    "\\end{equation}"
   ]
  },
  {
   "cell_type": "code",
   "execution_count": 44,
   "metadata": {},
   "outputs": [
    {
     "name": "stdout",
     "output_type": "stream",
     "text": [
      "Igual a: \n",
      "-0.175385895609\n"
     ]
    }
   ],
   "source": [
    "print 'Igual a: '\n",
    "lnp2p1 = -(32.2/1716)*integral\n",
    "print lnp2p1"
   ]
  },
  {
   "cell_type": "markdown",
   "metadata": {},
   "source": [
    "Despejando $p_{2}$, nos queda:\n",
    "\n",
    "\\begin{equation}\n",
    "    p_{2} = p_{1} e^{-0.1754}\n",
    "\\end{equation}"
   ]
  },
  {
   "cell_type": "code",
   "execution_count": 45,
   "metadata": {},
   "outputs": [
    {
     "name": "stdout",
     "output_type": "stream",
     "text": [
      "La presión en el tope de la montaña es: \n",
      "10.1535109999\n",
      "[psi]\n"
     ]
    }
   ],
   "source": [
    "print 'La presión en el tope de la montaña es: '\n",
    "p2 = 12.1 * np.e**(lnp2p1)\n",
    "print p2\n",
    "print '[psi]'"
   ]
  },
  {
   "cell_type": "markdown",
   "metadata": {},
   "source": [
    "## 3."
   ]
  },
  {
   "cell_type": "markdown",
   "metadata": {},
   "source": [
    "Ambas salidas de un manómetro de mercurio en forma de tubo en U como el que se muestra en la Figura están abiertas a la atmosfera bajo condiciones estándar de presión atmosférica. Cuando la válvula en el tope del brazo derecho se abre el nivel del mercurio debajo de la válvula es $h_{i}$. Cuando la válvula se cierra, se aplica presión en el brazo izquierdo. Determine la relación entre la lectura diferencial en el manómetro y la presión manométrica aplicada $p_{g}$. Muestre en una gráfica como la lectura diferencial varía con $p_{g}$, para $h_{i} = 25, 50, 75 y 100 mm$ en el rango de $0\\leq p_{g} \\leq 300 kPa$. Asuma que la temperatura del aire atrapado permanece constante."
   ]
  },
  {
   "cell_type": "markdown",
   "metadata": {},
   "source": [
    "<img src=\"FigurasEjercicios/2_3.png\">"
   ]
  },
  {
   "cell_type": "markdown",
   "metadata": {},
   "source": [
    "#### Desarrollo"
   ]
  },
  {
   "cell_type": "markdown",
   "metadata": {},
   "source": [
    "Con la válvula cerrada, y una presión $p_{g}$ aplicada, \n",
    "\n",
    "\\begin{equation}\n",
    "    p_{g} - \\gamma_{Hg} \\, \\Delta h = p_{a}\n",
    "\\end{equation}\n",
    "\n",
    "o \n",
    "\n",
    "\\begin{equation}\n",
    "    \\Delta h = \\frac{p_{g}-p_{a}}{\\gamma_{Hg}}\n",
    "\\end{equation}\n",
    "\n",
    "Donde $p_{g}$ y p_{a} son las presiones manométricas para compresión isotérmica del aire atrapado:\n",
    "\n",
    "\\begin{equation}\n",
    "    \\frac{p}{\\rho} = constante\n",
    "\\end{equation}\n",
    "\n",
    "Entonces para una masa constante de aire:\n",
    "\n",
    "\\begin{equation}\n",
    "    p_{i} V_{i} = p_{f} V_{f}\n",
    "\\end{equation}\n",
    "\n",
    "Donde $V$ es el volumen del aire, $p$ es la presión absoluta, e $i$, y $f$, se refieren a los estados inicial y final respectivamente, de esta manera, \n",
    "\n",
    "\\begin{equation}\n",
    "    p_{atm} V_{i} = (p_{a}+p_{atm}) V_{f}\n",
    "\\end{equation}\n",
    "\n",
    "Para el aire atrapado en el brazo derecho $V_{i} = h_{i} (Area \\, del \\, tubo)$, entonces la ecuación anterior, se puede escribir como:\n",
    "\n",
    "\\begin{equation}\n",
    "    p_{a} = p_{atm} (\\frac{h_{i}}{h_{i}-\\frac{\\Delta h}{2}}-1)\n",
    "\\end{equation}\n",
    "\n",
    "Teniendo en cuenta la definición inicial de $\\Delta h$, se obtiene:\n",
    "\n",
    "\\begin{equation}\n",
    "    \\Delta h = \\frac{1}{\\gamma_{Hg}} \\, (p_{g}+p_{atm}(1 - \\frac{h_{i}}{h_{i}-\\frac{\\Delta h}{2}}))\n",
    "\\end{equation}\n",
    "\n",
    "Dicha expresión se puede escribir de la forma:\n",
    "\n",
    "\\begin{equation}\n",
    "    (\\Delta h)^{2} - (2 h_{i}+\\frac{p_{g}+p_{atm}}{\\gamma_{Hg}}) \\Delta h + \\frac{2 p_{g}h_{i}}{\\gamma_{Hg}} = 0\n",
    "\\end{equation}\n",
    "\n",
    "Las raices de esta ecuación cuadrática son:\n",
    "\n",
    "\\begin{equation}\n",
    "    \\Delta h = (h_{i}+\\frac{p_{g}+p_{atm}}{2\\gamma_{Hg}}) \\pm ((h_{i}+\\frac{p_{g}+p_{atm}}{2\\gamma_{Hg}})^{2}-\\frac{2p_{g}h_{i}}{\\gamma_{Hg}})^{1/2}\n",
    "\\end{equation}\n",
    "\n",
    "Para evaluar $\\Delta h$, el signo negativo es usado ya que $\\Delta h = 0$ para $p_{g}=0$.\n",
    "\n",
    "A continuación se muestra el algoritmo para calcular $\\Delta h$ como función de $p_{g}$ para varios $h_{i}$, con $p_{a}=101 kPa$ y $\\gamma_{Hg}=133 kN/m^{3}$"
   ]
  },
  {
   "cell_type": "code",
   "execution_count": 46,
   "metadata": {},
   "outputs": [
    {
     "name": "stdout",
     "output_type": "stream",
     "text": [
      "Distintas hi [m]:\n",
      "[ 0.     0.025  0.05   0.075  0.1  ]\n",
      "---------------------------------------------------------------------------\n",
      "Para pg = 0 kPa.\n",
      "[ 0.  0.  0.  0.  0.]\n",
      "Para pg = 30 kPa.\n",
      "[ 0.          0.01101442  0.02120444  0.03063828  0.03937977]\n",
      "Para pg = 60 kPa.\n",
      "[ 0.          0.01815593  0.03537847  0.05170227  0.06716398]\n",
      "Para pg = 90 kPa.\n",
      "[ 0.          0.02312744  0.04539435  0.06681045  0.08738824]\n",
      "Para pg = 120 kPa.\n",
      "[ 0.          0.02677509  0.05279883  0.07806845  0.1025832 ]\n",
      "Para pg = 150 kPa.\n",
      "[ 0.          0.02956032  0.05847431  0.08673381  0.11433195]\n",
      "Para pg = 180 kPa.\n",
      "[ 0.          0.03175424  0.06295308  0.09358655  0.12364541]\n",
      "Para pg = 210 kPa.\n",
      "[ 0.          0.03352586  0.06657244  0.09912962  0.13118767]\n",
      "Para pg = 240 kPa.\n",
      "[ 0.          0.03498574  0.06955531  0.10369918  0.13740796]\n",
      "Para pg = 270 kPa.\n",
      "[ 0.          0.03620913  0.07205442  0.1075272   0.1426188 ]\n",
      "Para pg = 300 kPa.\n",
      "[ 0.          0.03724895  0.07417767  0.11077837  0.14704324]\n"
     ]
    }
   ],
   "source": [
    "patm = 101.\n",
    "ghg = 133.\n",
    "hi = np.arange(0,0.11,0.025) #los distintos hi (en metros)\n",
    "pg = np.arange(0,301,30) #las distintas presiones aplicadas (kPa)\n",
    "\n",
    "dh = np.zeros([len(pg),len(hi)])\n",
    "\n",
    "print 'Distintas hi [m]:'\n",
    "print hi\n",
    "print '---------------------------------------------------------------------------'\n",
    "for i in range(len(pg)):\n",
    "    for j in range(len(hi)):\n",
    "\n",
    "        a = hi[j]+(pg[i]+patm)/(2*ghg)\n",
    "#         print a\n",
    "        dh[i,j]=a-((a**2)-2*pg[i]*hi[j]/ghg)**0.5\n",
    "    print 'Para pg = '+str(pg[i])+' kPa.'\n",
    "    print str(dh[i])"
   ]
  },
  {
   "cell_type": "code",
   "execution_count": 47,
   "metadata": {},
   "outputs": [
    {
     "data": {
      "image/png": "[encoded data removed]",
      "text/plain": [
       "<matplotlib.figure.Figure at 0x7f84446aec10>"
      ]
     },
     "metadata": {
      "needs_background": "light"
     },
     "output_type": "display_data"
    }
   ],
   "source": [
    "plt.figure(figsize=(12,6))\n",
    "for j in range(len(hi)):\n",
    "    plt.plot(pg,dh[:,j],label='hi = '+str(hi[j]))\n",
    "    plt.plot(pg,dh[:,j],'.',color='k')\n",
    "    \n",
    "plt.grid()\n",
    "plt.ylim(-0.05,0.2)\n",
    "plt.xlim(0,300)\n",
    "plt.legend()\n",
    "plt.xlabel(u'Altura [m]')\n",
    "plt.ylabel(u'Presión aplicada [kPa]')\n",
    "plt.show()"
   ]
  },
  {
   "cell_type": "markdown",
   "metadata": {},
   "source": [
    "## 4."
   ]
  },
  {
   "cell_type": "markdown",
   "metadata": {},
   "source": [
    "Un tanque abierto rectangular contiene un líquido en suspensión que en un tiempo dado tiene un peso específico que varía aproximadamente con la altura de acuerdo a los siguientes datos:"
   ]
  },
  {
   "cell_type": "markdown",
   "metadata": {},
   "source": [
    "<img src=\"FigurasEjercicios/2_4.png\">\n",
    "<img src=\"FigurasEjercicios/2_4_1.png\">"
   ]
  },
  {
   "cell_type": "markdown",
   "metadata": {},
   "source": [
    "La profundidad $h=0$, corresponde a la superficie libre. Determine por integración numérica, la magnitud y localización de la fuerza resultante que el líquido en suspensión ejerce sobre un muro vertical en un tanque que tiene 6 metros de ancho. La profundidad del fluido en el tanque es de 3.6 m."
   ]
  },
  {
   "cell_type": "markdown",
   "metadata": {},
   "source": [
    "#### Desarrollo"
   ]
  },
  {
   "cell_type": "markdown",
   "metadata": {},
   "source": [
    "La magnitud de la fuerza ejercida por el fluido $F_{R}$, puede ser encontrada sumando las fuerzas diferenciales actuando en la horizontal, como se muestra en la figura."
   ]
  },
  {
   "cell_type": "markdown",
   "metadata": {},
   "source": [
    "<img src=\"FigurasEjercicios/2_4_2.png\">"
   ]
  },
  {
   "cell_type": "markdown",
   "metadata": {},
   "source": [
    "La fuerza resultante se puede expresar entonces como:\n",
    "\n",
    "\\begin{equation}\n",
    "    F_{R} = \\int_{0}^{H} dF_{R} = b \\int_{0}^{H} p \\, dh\n",
    "\\end{equation}\n",
    "\n",
    "Donde p es la presión a una profundidad h.\n",
    "\n",
    "Para encontrar p, usamos:\n",
    "\n",
    "\\begin{equation}\n",
    "    \\frac{dp}{dz} = -\\gamma\n",
    "\\end{equation}\n",
    "\n",
    "y con $dz = -dh$,\n",
    "\n",
    "\\begin{equation}\n",
    "    p(h) = \\int_{0}^{h} \\gamma \\, dh\n",
    "\\end{equation}"
   ]
  },
  {
   "cell_type": "code",
   "execution_count": 48,
   "metadata": {},
   "outputs": [
    {
     "name": "stdout",
     "output_type": "stream",
     "text": [
      "h [m], presión [kPa]\n",
      "0.0 ,  0.0\n",
      "0.4 ,  4.02\n",
      "0.8 ,  8.08\n",
      "1.2 ,  12.24\n",
      "1.6 ,  16.62\n",
      "2.0 ,  21.34\n",
      "2.4 ,  26.34\n",
      "2.8 ,  31.46\n",
      "3.2 ,  36.64\n",
      "3.6 ,  41.86\n"
     ]
    }
   ],
   "source": [
    "#definimos el perfil de presiones como\n",
    "gamma=np.array([10,10.1,10.2,10.6,11.3,12.3,12.7,12.9,13.0,13.1])\n",
    "h=np.arange(0,3.7,0.4)\n",
    "presion = []\n",
    "print u'h [m], presión [kPa]'\n",
    "for i in range(len(gamma)):\n",
    "    presion.append(np.trapz(gamma[:i+1],h[:i+1]))\n",
    "    print str(h[i]),', ', str(np.trapz(gamma[:i+1],h[:i+1]))\n",
    "    \n",
    "presion = np.array(presion)"
   ]
  },
  {
   "cell_type": "code",
   "execution_count": 49,
   "metadata": {},
   "outputs": [
    {
     "name": "stdout",
     "output_type": "stream",
     "text": [
      "La fuerza resultante es:\n",
      "426.408 kN\n"
     ]
    }
   ],
   "source": [
    "# Luego, integrando el arreglo de presiones, y multiplicando por el ancho tenemos:\n",
    "print 'La fuerza resultante es:'\n",
    "FuerzaR = np.trapz(presion,h)*6\n",
    "print str(FuerzaR)+' kN'"
   ]
  },
  {
   "cell_type": "markdown",
   "metadata": {},
   "source": [
    "Ahora, para localizar el punto de aplicación de la fuerza resultante $F_{R}$,  se realiza la sumatoria de momentos sobre el eje formado por la intersección del muro vertical y la superficie del fluido, de la siguiente manera:\n",
    "\n",
    "\\begin{equation}\n",
    "    F_{R}h_{r} = b \\int_{0}^{h} h \\, p \\, dh\n",
    "\\end{equation}"
   ]
  },
  {
   "cell_type": "code",
   "execution_count": 50,
   "metadata": {},
   "outputs": [
    {
     "name": "stdout",
     "output_type": "stream",
     "text": [
      "El valor de la integral es:\n",
      "174.3728 kN\n"
     ]
    }
   ],
   "source": [
    "#La integral anterior se obtiene como:\n",
    "\n",
    "# Luego, integrando el arreglo de presiones, y multiplicando por el ancho tenemos:\n",
    "print 'El valor de la integral es:'\n",
    "Integral = np.trapz(presion*h,h)\n",
    "print str(Integral)+' kN'"
   ]
  },
  {
   "cell_type": "markdown",
   "metadata": {},
   "source": [
    "Multiplicando por el ancho, y dividiendo por la fuerza resultante queda:"
   ]
  },
  {
   "cell_type": "code",
   "execution_count": 51,
   "metadata": {},
   "outputs": [
    {
     "name": "stdout",
     "output_type": "stream",
     "text": [
      "La fuerza resultante actúa a una profundidad de: \n",
      "2.45360499803 m.\n"
     ]
    }
   ],
   "source": [
    "print 'La fuerza resultante actúa a una profundidad de: '\n",
    "hr = Integral*6/ FuerzaR\n",
    "print str(hr)+' m.' "
   ]
  },
  {
   "cell_type": "markdown",
   "metadata": {},
   "source": [
    "# Ecuación de Bernoulli"
   ]
  },
  {
   "cell_type": "markdown",
   "metadata": {},
   "source": [
    "## 1."
   ]
  },
  {
   "cell_type": "markdown",
   "metadata": {},
   "source": [
    "Agua fluye alrededor de una curva bidimensional con líneas de corriente circulares, como se muestra en la figura a continuación. La presión en el punto (1) se mide y esde $p_{1} = 25 psi$, y la velocidad a través de la sección $a-a$ se indica en la tabla. Calcule u grafique la presión a través de la sección $a-a$ del canal [$p=p(z)\\, para \\, 0 \\leq z \\leq 2 ft.$]"
   ]
  },
  {
   "cell_type": "markdown",
   "metadata": {},
   "source": [
    "<img src=\"FigurasEjercicios/3_1.png\">"
   ]
  },
  {
   "cell_type": "markdown",
   "metadata": {},
   "source": [
    "<img src=\"FigurasEjercicios/3_1_2.png\">"
   ]
  },
  {
   "cell_type": "markdown",
   "metadata": {},
   "source": [
    "#### Desarrollo"
   ]
  },
  {
   "cell_type": "markdown",
   "metadata": {},
   "source": [
    "Se tiene lo siguiente:"
   ]
  },
  {
   "cell_type": "markdown",
   "metadata": {},
   "source": [
    "\\begin{equation}\n",
    "    -\\gamma \\frac{dZ}{dn}-\\frac{\\partial p}{\\partial n} = \\frac{\\rho V^{2}}{R}\n",
    "\\end{equation}\n",
    "\n",
    "Con $\\frac{dz}{dn}$ = 1, $R = 22 - n$, y $V = V(n)$, como se da en la tabla,"
   ]
  },
  {
   "cell_type": "markdown",
   "metadata": {},
   "source": [
    "Así, \n",
    "\n",
    "\\begin{equation}\n",
    "    \\frac{dp}{dn} = -\\gamma - \\frac{\\rho V^{2}}{22-n}\n",
    "\\end{equation}\n",
    "\n",
    "Se plantea la integral, \n",
    "\n",
    "\\begin{equation}\n",
    "    \\int_{p}^{p1} dp = - \\int_{n}^{n=2} \\gamma dn - \\int_{n}^{n=2} \\frac{\\rho V^{2}}{22-n} dn\n",
    "\\end{equation}\n",
    "\n",
    "Integrando, \n",
    "\n",
    "\\begin{equation}\n",
    "    p_{1}-p = - \\gamma (2-n) - \\rho \\int_{n}^{n=2} \\frac{\\rho V^{2}}{(22-n)} dn\n",
    "\\end{equation}\n",
    "\n",
    "Así con, $\\gamma = 62.4 \\frac{lb}{ft^{3}}$, $\\rho = 1.94 \\frac{slugs}{ft^{3}}$, y $p_{1}=25 \\frac{lb}{in^{2}}=3600 \\frac{lb}{ft^{2}}$:\n",
    "\n",
    "\\begin{equation}\n",
    "    p = 3600 + 62.4 (2-n)+1.94 \\int_{n}^{2} \\frac{V^{2}}{22-n} dn\n",
    "\\end{equation}\n",
    "\n",
    "Así, se resuelve lo anterior para cada altura o posición n."
   ]
  },
  {
   "cell_type": "code",
   "execution_count": 52,
   "metadata": {},
   "outputs": [],
   "source": [
    "# Datos de la tabla\n",
    "\n",
    "V = np.array([0,8,14.3,20,19.5,15.6,8.3,6.2,3.7,2.0,0])\n",
    "z = np.array([0,0.2,0.3,0.6,0.8,1,1.2,1.4,1.6,1.8,2])\n",
    "\n",
    "#y es la expresión dentro de la integral\n",
    "x = z\n",
    "y = V**2/(22-x)"
   ]
  },
  {
   "cell_type": "code",
   "execution_count": 53,
   "metadata": {},
   "outputs": [],
   "source": [
    "int_i = []\n",
    "for i in range(len(x)):\n",
    "    int_i.append(np.trapz(y[i:],x[i:]))\n",
    "int_i = np.array(int_i)"
   ]
  },
  {
   "cell_type": "code",
   "execution_count": 54,
   "metadata": {},
   "outputs": [
    {
     "name": "stdout",
     "output_type": "stream",
     "text": [
      "Los valores de la integral para cada n son:\n",
      "n, integral\n",
      "0.0 14.1123704425\n",
      "0.2 13.8187924609\n",
      "0.3 13.2008283549\n",
      "0.6 8.98356469148\n",
      "0.8 5.32077373751\n",
      "1.0 2.36828451918\n",
      "1.2 0.878225453243\n",
      "1.4 0.360421588418\n",
      "1.6 0.106711803533\n",
      "1.8 0.019801980198\n",
      "2.0 0.0\n"
     ]
    }
   ],
   "source": [
    "print 'Los valores de la integral para cada n son:'\n",
    "print 'n, integral'\n",
    "for i in range(len(int_i)):\n",
    "    print x[i], int_i[i]"
   ]
  },
  {
   "cell_type": "code",
   "execution_count": 55,
   "metadata": {},
   "outputs": [],
   "source": [
    "# La presión en cada punto, se calcula entonces como:\n",
    "\n",
    "presion = 3600 + 62.4*(2-x) + 1.94*int_i"
   ]
  },
  {
   "cell_type": "code",
   "execution_count": 56,
   "metadata": {},
   "outputs": [
    {
     "name": "stdout",
     "output_type": "stream",
     "text": [
      "Los valores de la presión para cada n son:\n",
      "n [ft] // presión [lb/ft2]\n",
      "0.0 // 3752.17799866\n",
      "0.2 // 3739.12845737\n",
      "0.3 // 3731.68960701\n",
      "0.6 // 3704.7881155\n",
      "0.8 // 3685.20230105\n",
      "1.0 // 3666.99447197\n",
      "1.2 // 3651.62375738\n",
      "1.4 // 3638.13921788\n",
      "1.6 // 3625.1670209\n",
      "1.8 // 3612.51841584\n",
      "2.0 // 3600.0\n"
     ]
    }
   ],
   "source": [
    "print 'Los valores de la presión para cada n son:'\n",
    "print 'n [ft] // presión [lb/ft2]'\n",
    "for i in range(len(int_i)):\n",
    "    print str(x[i]), '//',str(presion[i])"
   ]
  },
  {
   "cell_type": "code",
   "execution_count": 57,
   "metadata": {},
   "outputs": [
    {
     "data": {
      "image/png": "[encoded data removed]",
      "text/plain": [
       "<matplotlib.figure.Figure at 0x7f841c5242d0>"
      ]
     },
     "metadata": {
      "needs_background": "light"
     },
     "output_type": "display_data"
    }
   ],
   "source": [
    "plt.plot(x,presion)\n",
    "plt.grid()\n",
    "plt.ylabel(u'Presión [lb/ft2]')\n",
    "plt.xlabel(u'n [ft]')\n",
    "plt.xlim(0,2)\n",
    "plt.show()"
   ]
  },
  {
   "cell_type": "markdown",
   "metadata": {},
   "source": [
    "## 2."
   ]
  },
  {
   "cell_type": "markdown",
   "metadata": {},
   "source": [
    "Fluye agua desde una tubería de 20mm de diámetro con un caudal $Q$ como se muestra en la figura. Calcule y grafique el diámetro $d$ en función de la distancia por debajo del grifo $h$, para valores de $0 \\leq h \\leq 1m$, y $0 \\leq Q \\leq 0.004 m^{3}/s$. "
   ]
  },
  {
   "cell_type": "markdown",
   "metadata": {},
   "source": [
    "<img src=\"FigurasEjercicios/3_2.png\">"
   ]
  },
  {
   "cell_type": "markdown",
   "metadata": {},
   "source": [
    "#### Desarrollo"
   ]
  },
  {
   "cell_type": "markdown",
   "metadata": {},
   "source": [
    "Con la ecuación de Bernoulli entre (1) y (2), se tiene:\n",
    "\n",
    "\\begin{equation}\n",
    "    \\frac{p_{1}}{\\gamma}+\\frac{V_{1}^{2}}{2g}+Z_{1}=\\frac{p_{2}}{\\gamma}+\\frac{V_{2}^{2}}{2g}+Z_{2}\n",
    "\\end{equation}\n",
    "\n",
    "donde $p_{1}=p_{2}=0$, $z_{1} = h$, y $z_{2}=0$. Así, \n",
    "\n",
    "\\begin{equation}\n",
    "    V_{2}= (V_{1}^{2}+2gh)^{1/2}\n",
    "\\end{equation}\n",
    "\n",
    "Donde $V_{1} = Q/A_{1}$"
   ]
  },
  {
   "cell_type": "code",
   "execution_count": 58,
   "metadata": {},
   "outputs": [
    {
     "name": "stdout",
     "output_type": "stream",
     "text": [
      "3183.09886184\n"
     ]
    }
   ],
   "source": [
    "print 1/(np.pi*(0.25)*(0.02**2))"
   ]
  },
  {
   "cell_type": "markdown",
   "metadata": {},
   "source": [
    "$V_{1} = 3183.1 Q [m/s]$ con Q en $m^{3}/s$\n",
    "\n",
    "Con $V_{2} = Q/A_{2} = \\frac{4Q}{\\pi d^{2}}$, de esta manera:\n",
    "\n",
    "\\begin{equation}\n",
    "    \\frac{4Q}{\\pi d^{2}} = ((3183 Q)^2+2(9.81)h)^{1/2}\n",
    "\\end{equation}\n",
    "\n",
    "Despejando d, \n",
    "\n",
    "\\begin{equation}\n",
    "    d = \\frac{2\\sqrt{Q}}{\\sqrt{\\pi} \\, (1.013x10^{7} Q^{2}+19.62h)^{1/4}}\n",
    "\\end{equation}\n"
   ]
  },
  {
   "cell_type": "code",
   "execution_count": 59,
   "metadata": {},
   "outputs": [
    {
     "name": "stdout",
     "output_type": "stream",
     "text": [
      "//////////////////// Caudal = 0.0 [m3/s] //////////////////////////////\n",
      "h [m] // d [m]\n",
      "0 // nan\n",
      "1 // 0.0\n",
      "2 // 0.0\n",
      "3 // 0.0\n",
      "4 // 0.0\n",
      "5 // 0.0\n",
      "6 // 0.0\n",
      "7 // 0.0\n",
      "8 // 0.0\n",
      "9 // 0.0\n",
      "10 // 0.0\n",
      "//////////////////// Caudal = 0.001 [m3/s] //////////////////////////////\n",
      "h [m] // d [m]\n",
      "0 // 0.0200010455075\n",
      "1 // 0.0191350906814\n",
      "2 // 0.0184291401178\n",
      "3 // 0.0178367836368\n",
      "4 // 0.0173288489166\n",
      "5 // 0.0168858828073\n",
      "6 // 0.0164943085974\n",
      "7 // 0.016144301116\n",
      "8 // 0.0158285368869\n",
      "9 // 0.0155414214152\n",
      "10 // 0.0152785914077\n",
      "//////////////////// Caudal = 0.002 [m3/s] //////////////////////////////\n",
      "h [m] // d [m]\n",
      "0 // 0.0200010455075\n",
      "1 // 0.0197660012502\n",
      "2 // 0.0195441493367\n",
      "3 // 0.0193342140877\n",
      "4 // 0.0191350906814\n",
      "5 // 0.0189458164095\n",
      "6 // 0.0187655476813\n",
      "7 // 0.0185935414547\n",
      "8 // 0.0184291401178\n",
      "9 // 0.0182717590822\n",
      "10 // 0.0181208765291\n",
      "//////////////////// Caudal = 0.003 [m3/s] //////////////////////////////\n",
      "h [m] // d [m]\n",
      "0 // 0.0200010455075\n",
      "1 // 0.0198948630665\n",
      "2 // 0.0197914406225\n",
      "3 // 0.0196906516697\n",
      "4 // 0.0195923779111\n",
      "5 // 0.019496508575\n",
      "6 // 0.0194029398016\n",
      "7 // 0.0193115740891\n",
      "8 // 0.0192223197945\n",
      "9 // 0.0191350906814\n",
      "10 // 0.0190498055101\n",
      "//////////////////// Caudal = 0.004 [m3/s] //////////////////////////////\n",
      "h [m] // d [m]\n",
      "0 // 0.0200010455075\n",
      "1 // 0.0199409705035\n",
      "2 // 0.019881787001\n",
      "3 // 0.0198234714656\n",
      "4 // 0.0197660012502\n",
      "5 // 0.0197093545512\n",
      "6 // 0.0196535103681\n",
      "7 // 0.0195984484655\n",
      "8 // 0.0195441493367\n",
      "9 // 0.0194905941699\n",
      "10 // 0.0194377648163\n"
     ]
    },
    {
     "name": "stderr",
     "output_type": "stream",
     "text": [
      "/home/jsperezc/.local/lib/python2.7/site-packages/ipykernel_launcher.py:16: RuntimeWarning: invalid value encountered in double_scalars\n",
      "  app.launch_new_instance()\n"
     ]
    }
   ],
   "source": [
    "# Se calcula para los caudales contenidos en Q:\n",
    "\n",
    "Q = np.arange(0,0.005,0.001)\n",
    "\n",
    "# Y para las h:\n",
    "\n",
    "h= np.arange(0,1.1,0.1)\n",
    "\n",
    "#arreglo contenedor de diámetros:\n",
    "\n",
    "d = np.zeros([len(Q),len(h)])\n",
    "for qi in range(len(Q)):\n",
    "    print '//////////////////// Caudal = '+str(Q[qi])+' [m3/s] //////////////////////////////'\n",
    "    print 'h [m] // d [m]'\n",
    "    for hi in range(len(h)):\n",
    "        d[qi,hi] = (2*(Q[qi]**0.5))/((np.pi**0.5)*((1.013*(10**7)*(Q[qi]**2)+19.62*h[hi])**0.25))\n",
    "        print str(hi) + ' // ' + str(d[qi,hi])\n"
   ]
  },
  {
   "cell_type": "code",
   "execution_count": 60,
   "metadata": {},
   "outputs": [
    {
     "data": {
      "image/png": "[encoded data removed]",
      "text/plain": [
       "<matplotlib.figure.Figure at 0x7f8444550bd0>"
      ]
     },
     "metadata": {
      "needs_background": "light"
     },
     "output_type": "display_data"
    }
   ],
   "source": [
    "plt.figure(figsize=(12,6))\n",
    "\n",
    "for j in range(1,len(Q)):\n",
    "    plt.plot(d[j],h,label='Q = '+str(Q[j]))\n",
    "    plt.plot(d[j],h,'.',color='k')\n",
    "    \n",
    "plt.grid()\n",
    "# plt.ylim(-0.05,0.2)\n",
    "# plt.xlim(0,300)\n",
    "plt.legend()\n",
    "plt.gca().invert_yaxis()\n",
    "plt.xlabel(u'Diámetro [m]')\n",
    "plt.ylabel(u'h [m]')\n",
    "plt.show()"
   ]
  },
  {
   "cell_type": "markdown",
   "metadata": {},
   "source": [
    "## 3."
   ]
  },
  {
   "cell_type": "markdown",
   "metadata": {},
   "source": [
    "Agua fluye desde un gran tanque a través de una tubería de área variable como se muestra en la figura. El área de la tubería está dada por $A = A_{0} [1-x(1-\\frac{x}{l})/2l]$, donde $A_{0}$ es el área en el inicio $(x=0)$ y en el final $(x=l)$ del tubo. Calcule y grafique la presión dentro de la tubería en función de la distancia a lo largo de la misma para profundidades $h= 1, 4, 10 y 25 m$."
   ]
  },
  {
   "cell_type": "markdown",
   "metadata": {},
   "source": [
    "<img src=\"FigurasEjercicios/3_3.png\">"
   ]
  },
  {
   "cell_type": "markdown",
   "metadata": {},
   "source": [
    "#### Desarrollo"
   ]
  },
  {
   "cell_type": "markdown",
   "metadata": {},
   "source": [
    "Con la ecuación de Bernoulli entre (1) y (2), se tiene:\n",
    "\n",
    "\\begin{equation}\n",
    "    \\frac{p_{1}}{\\gamma}+\\frac{V_{1}^{2}}{2g}+Z_{1}=\\frac{p_{2}}{\\gamma}+\\frac{V_{2}^{2}}{2g}+Z_{2}\n",
    "\\end{equation}\n",
    "\n",
    "donde $p_{1}=p_{2}=0$, $z_{1} = h$, $z_{2}=0$ y $V_{1} = 0$. Así, \n",
    "\n",
    "\\begin{equation}\n",
    "    V_{2}= (2gh)^{1/2}\n",
    "\\end{equation}\n",
    "\n",
    "También en cualquier x, $AV = A_{2}V_{2}$, entonces con $A_{2}=A_{0}$, \n",
    "\n",
    "\\begin{equation}\n",
    "    V=\\frac{A_{0}}{A} V_{2}\n",
    "\\end{equation}\n",
    "\n",
    "Y, $\\frac{p_{1}}{\\gamma}+\\frac{V_{1}^{2}}{2g}+Z_{1}=\\frac{p}{\\gamma}+\\frac{V^{2}}{2g}+Z$. Despejando p, se tiene:\n",
    "\n",
    "\\begin{equation}\n",
    "    p=\\gamma h - \\frac{1}{2} \\rho V^{2} = \\gamma h - \\frac{1}{2} \\rho (\\frac{A_{0}}{A}))^{2} (2gh)\n",
    "\\end{equation}\n",
    "\n",
    "\\begin{equation}\n",
    "    p=\\gamma h [1-(\\frac{A_{0}}{A})^{2}] = \\gamma h (1-\\frac{1}{(1- \\frac{x}{2l}(1-\\frac{x}{l}))^{2}})\n",
    "\\end{equation}\n",
    "\n",
    "Se calcula $p$ para $0 \\leq \\frac{x}{l} \\leq 1$, para las diferentes $h$."
   ]
  },
  {
   "cell_type": "code",
   "execution_count": 61,
   "metadata": {},
   "outputs": [],
   "source": [
    "x_l = np.arange(0,1.1,0.1)\n",
    "h = np.array([1,4,10,25])"
   ]
  },
  {
   "cell_type": "code",
   "execution_count": 62,
   "metadata": {},
   "outputs": [
    {
     "name": "stdout",
     "output_type": "stream",
     "text": [
      "//////////////////// hi = 1 [m] //////////////////////////////\n",
      "x/l // presion [kPa]\n",
      "0.0 // 0.0\n",
      "0.1 // -0.945319481374\n",
      "0.2 // -1.77844990548\n",
      "0.3 // -2.43432477139\n",
      "0.4 // -2.85495867769\n",
      "0.5 // -3.0\n",
      "0.6 // -2.85495867769\n",
      "0.7 // -2.43432477139\n",
      "0.8 // -1.77844990548\n",
      "0.9 // -0.945319481374\n",
      "1.0 // 0.0\n",
      "//////////////////// hi = 4 [m] //////////////////////////////\n",
      "x/l // presion [kPa]\n",
      "0.0 // 0.0\n",
      "0.1 // -3.7812779255\n",
      "0.2 // -7.11379962193\n",
      "0.3 // -9.73729908555\n",
      "0.4 // -11.4198347107\n",
      "0.5 // -12.0\n",
      "0.6 // -11.4198347107\n",
      "0.7 // -9.73729908555\n",
      "0.8 // -7.11379962193\n",
      "0.9 // -3.7812779255\n",
      "1.0 // 0.0\n",
      "//////////////////// hi = 10 [m] //////////////////////////////\n",
      "x/l // presion [kPa]\n",
      "0.0 // 0.0\n",
      "0.1 // -9.45319481374\n",
      "0.2 // -17.7844990548\n",
      "0.3 // -24.3432477139\n",
      "0.4 // -28.5495867769\n",
      "0.5 // -30.0\n",
      "0.6 // -28.5495867769\n",
      "0.7 // -24.3432477139\n",
      "0.8 // -17.7844990548\n",
      "0.9 // -9.45319481374\n",
      "1.0 // 0.0\n",
      "//////////////////// hi = 25 [m] //////////////////////////////\n",
      "x/l // presion [kPa]\n",
      "0.0 // 0.0\n",
      "0.1 // -23.6329870343\n",
      "0.2 // -44.4612476371\n",
      "0.3 // -60.8581192847\n",
      "0.4 // -71.3739669421\n",
      "0.5 // -75.0\n",
      "0.6 // -71.3739669421\n",
      "0.7 // -60.8581192847\n",
      "0.8 // -44.4612476371\n",
      "0.9 // -23.6329870343\n",
      "1.0 // 0.0\n"
     ]
    }
   ],
   "source": [
    "presion = np.zeros([len(h),len(x_l)])\n",
    "for hi in range(len(h)):\n",
    "    print '//////////////////// hi = '+str(h[hi])+' [m] //////////////////////////////'\n",
    "    print 'x/l // presion [kPa]'\n",
    "    for xi in range(len(x_l)):\n",
    "        presion[hi,xi]=9.8*h[hi]*(1-((1)/((1-((x_l[xi]/2)*(1-x_l[xi])))**2)))\n",
    "        print str(x_l[xi]) + ' // ' + str(presion[hi,xi])"
   ]
  },
  {
   "cell_type": "code",
   "execution_count": 63,
   "metadata": {},
   "outputs": [
    {
     "data": {
      "image/png": "[encoded data removed]",
      "text/plain": [
       "<matplotlib.figure.Figure at 0x7f8444719e90>"
      ]
     },
     "metadata": {
      "needs_background": "light"
     },
     "output_type": "display_data"
    }
   ],
   "source": [
    "plt.figure(figsize=(12,6))\n",
    "\n",
    "for j in range(len(h)):\n",
    "    plt.plot(x_l,presion[j],label='h = '+str(h[j])+' m.')\n",
    "    plt.plot(x_l,presion[j],'.',color='k')\n",
    "    \n",
    "plt.grid()\n",
    "# plt.ylim(-0.05,0.2)\n",
    "# plt.xlim(0,300)\n",
    "plt.legend()\n",
    "# plt.gca().invert_yaxis()\n",
    "plt.xlabel(u'x/l')\n",
    "plt.ylabel(u'Presión [kPa]')\n",
    "plt.show()"
   ]
  },
  {
   "cell_type": "markdown",
   "metadata": {},
   "source": [
    "## 4."
   ]
  },
  {
   "cell_type": "markdown",
   "metadata": {},
   "source": [
    "Agua fluye sobre una rampa como se muestra en la figura, con pérdidas viscosas despreciables. La profundidad y velocidad se mantienen en $h_{1} = 0.3m$ y $V_{1} = 6 m/s$. Calcule y plotee la profundidad aguas abajo $h_{2}$ en función de la altura de la rampa H, para $0 \\leq H \\leq 2 m$. Note que para cada valor de H hay tres soluciones, no todas son realistas."
   ]
  },
  {
   "cell_type": "markdown",
   "metadata": {},
   "source": [
    "<img src=\"FigurasEjercicios/3_4.png\">"
   ]
  },
  {
   "cell_type": "markdown",
   "metadata": {},
   "source": [
    "#### Desarrollo"
   ]
  },
  {
   "cell_type": "markdown",
   "metadata": {},
   "source": [
    "Con la ecuación de Bernoulli entre (1) y (2), se tiene:\n",
    "\n",
    "\\begin{equation}\n",
    "    \\frac{p_{1}}{\\gamma}+\\frac{V_{1}^{2}}{2g}+Z_{1}=\\frac{p_{2}}{\\gamma}+\\frac{V_{2}^{2}}{2g}+Z_{2}\n",
    "\\end{equation}\n",
    "\n",
    "Donde $p_{1}=0$, $p_{2}=0$, $z_{1}=0.3m$ y $z_{2}=H+h_{2}$\n",
    "\n",
    "Por continuidad, \n",
    "\n",
    "\\begin{equation}\n",
    "    A_{1} V_{1} = A_{2} V_{2}\n",
    "\\end{equation}\n",
    "\n",
    "\\begin{equation}\n",
    "    V_{2} = \\frac{A_{1}}{A_{2}} V_{1} = \\frac{1.2}{h_{2}}\n",
    "\\end{equation}\n",
    "\n",
    "Reemplazando en la ecuación de Bernoulli, se tiene:\n",
    "\n",
    "\\begin{equation}\n",
    "    h_{2}^{3} - (2.135 - H)h_{2}^{2}+0.1651 = 0\n",
    "\\end{equation}\n",
    "\n",
    "Esta ecuación se resuelve para $0 \\leq H \\leq 2 m$, despejando $h_{2}$."
   ]
  },
  {
   "cell_type": "code",
   "execution_count": 64,
   "metadata": {},
   "outputs": [
    {
     "name": "stdout",
     "output_type": "stream",
     "text": [
      "[ 1.88871792  0.31970352 -0.27342144]\n"
     ]
    }
   ],
   "source": [
    "# con numpy.roots se pueden calcular las raices de un polinomio de cualquier orden,\n",
    "# si se dan los coeficientes.\n",
    "\n",
    "#por ejemplo, con H = 0.2m y x=h2, queda una ecuación de la forma \n",
    "# 1 x³ - 1.935 x² + 0.1651 = 0 se obtiene:\n",
    "\n",
    "coefs = [1,-1.935,0,0.1651]\n",
    "print np.roots(coefs)"
   ]
  },
  {
   "cell_type": "code",
   "execution_count": 65,
   "metadata": {
    "scrolled": true
   },
   "outputs": [
    {
     "name": "stdout",
     "output_type": "stream",
     "text": [
      "H = 0.0 m. Las raices positivas y reales son:\n",
      "[ 2.09747206  0.29995054]\n",
      "H = 0.015 m. Las raices positivas y reales son:\n",
      "[ 2.08190889  0.30129536]\n",
      "H = 0.03 m. Las raices positivas y reales son:\n",
      "[ 2.06633245  0.30266011]\n",
      "H = 0.045 m. Las raices positivas y reales son:\n",
      "[ 2.0507423   0.30404532]\n",
      "H = 0.06 m. Las raices positivas y reales son:\n",
      "[ 2.03513798  0.30545153]\n",
      "H = 0.075 m. Las raices positivas y reales son:\n",
      "[ 2.019519    0.30687933]\n",
      "H = 0.09 m. Las raices positivas y reales son:\n",
      "[ 2.00388488  0.3083293 ]\n",
      "H = 0.105 m. Las raices positivas y reales son:\n",
      "[ 1.98823508  0.30980208]\n",
      "H = 0.12 m. Las raices positivas y reales son:\n",
      "[ 1.97256906  0.31129831]\n",
      "H = 0.135 m. Las raices positivas y reales son:\n",
      "[ 1.95688624  0.31281866]\n",
      "H = 0.15 m. Las raices positivas y reales son:\n",
      "[ 1.94118601  0.31436385]\n",
      "H = 0.165 m. Las raices positivas y reales son:\n",
      "[ 1.92546776  0.31593461]\n",
      "H = 0.18 m. Las raices positivas y reales son:\n",
      "[ 1.90973081  0.3175317 ]\n",
      "H = 0.195 m. Las raices positivas y reales son:\n",
      "[ 1.89397447  0.31915593]\n",
      "H = 0.21 m. Las raices positivas y reales son:\n",
      "[ 1.87819801  0.32080814]\n",
      "H = 0.225 m. Las raices positivas y reales son:\n",
      "[ 1.86240067  0.32248921]\n",
      "H = 0.24 m. Las raices positivas y reales son:\n",
      "[ 1.84658164  0.32420007]\n",
      "H = 0.255 m. Las raices positivas y reales son:\n",
      "[ 1.83074008  0.32594166]\n",
      "H = 0.27 m. Las raices positivas y reales son:\n",
      "[ 1.81487509  0.32771502]\n",
      "H = 0.285 m. Las raices positivas y reales son:\n",
      "[ 1.79898573  0.32952119]\n",
      "H = 0.3 m. Las raices positivas y reales son:\n",
      "[ 1.78307102  0.3313613 ]\n",
      "H = 0.315 m. Las raices positivas y reales son:\n",
      "[ 1.7671299   0.33323652]\n",
      "H = 0.33 m. Las raices positivas y reales son:\n",
      "[ 1.75116127  0.33514809]\n",
      "H = 0.345 m. Las raices positivas y reales son:\n",
      "[ 1.73516397  0.3370973 ]\n",
      "H = 0.36 m. Las raices positivas y reales son:\n",
      "[ 1.71913675  0.33908552]\n",
      "H = 0.375 m. Las raices positivas y reales son:\n",
      "[ 1.7030783   0.34111421]\n",
      "H = 0.39 m. Las raices positivas y reales son:\n",
      "[ 1.68698725  0.3431849 ]\n",
      "H = 0.405 m. Las raices positivas y reales son:\n",
      "[ 1.67086211  0.34529919]\n",
      "H = 0.42 m. Las raices positivas y reales son:\n",
      "[ 1.65470131  0.34745881]\n",
      "H = 0.435 m. Las raices positivas y reales son:\n",
      "[ 1.6385032   0.34966557]\n",
      "H = 0.45 m. Las raices positivas y reales son:\n",
      "[ 1.62226601  0.35192138]\n",
      "H = 0.465 m. Las raices positivas y reales son:\n",
      "[ 1.60598783  0.35422831]\n",
      "H = 0.48 m. Las raices positivas y reales son:\n",
      "[ 1.58966665  0.35658853]\n",
      "H = 0.495 m. Las raices positivas y reales son:\n",
      "[ 1.57330031  0.35900435]\n",
      "H = 0.51 m. Las raices positivas y reales son:\n",
      "[ 1.55688651  0.36147825]\n",
      "H = 0.525 m. Las raices positivas y reales son:\n",
      "[ 1.54042276  0.36401289]\n",
      "H = 0.54 m. Las raices positivas y reales son:\n",
      "[ 1.5239064   0.36661108]\n",
      "H = 0.555 m. Las raices positivas y reales son:\n",
      "[ 1.50733459  0.36927588]\n",
      "H = 0.57 m. Las raices positivas y reales son:\n",
      "[ 1.49070423  0.37201053]\n",
      "H = 0.585 m. Las raices positivas y reales son:\n",
      "[ 1.474012    0.37481855]\n",
      "H = 0.6 m. Las raices positivas y reales son:\n",
      "[ 1.4572543   0.37770372]\n",
      "H = 0.615 m. Las raices positivas y reales son:\n",
      "[ 1.44042724  0.38067012]\n",
      "H = 0.63 m. Las raices positivas y reales son:\n",
      "[ 1.42352659  0.3837222 ]\n",
      "H = 0.645 m. Las raices positivas y reales son:\n",
      "[ 1.40654774  0.38686475]\n",
      "H = 0.66 m. Las raices positivas y reales son:\n",
      "[ 1.38948566  0.39010299]\n",
      "H = 0.675 m. Las raices positivas y reales son:\n",
      "[ 1.37233487  0.39344264]\n",
      "H = 0.69 m. Las raices positivas y reales son:\n",
      "[ 1.35508933  0.39688994]\n",
      "H = 0.705 m. Las raices positivas y reales son:\n",
      "[ 1.33774242  0.40045174]\n",
      "H = 0.72 m. Las raices positivas y reales son:\n",
      "[ 1.3202868   0.40413557]\n",
      "H = 0.735 m. Las raices positivas y reales son:\n",
      "[ 1.30271438  0.40794979]\n",
      "H = 0.75 m. Las raices positivas y reales son:\n",
      "[ 1.28501614  0.41190362]\n",
      "H = 0.765 m. Las raices positivas y reales son:\n",
      "[ 1.26718202  0.41600737]\n",
      "H = 0.78 m. Las raices positivas y reales son:\n",
      "[ 1.24920075  0.42027257]\n",
      "H = 0.795 m. Las raices positivas y reales son:\n",
      "[ 1.23105962  0.42471215]\n",
      "H = 0.81 m. Las raices positivas y reales son:\n",
      "[ 1.21274424  0.42934077]\n",
      "H = 0.825 m. Las raices positivas y reales son:\n",
      "[ 1.19423824  0.43417507]\n",
      "H = 0.84 m. Las raices positivas y reales son:\n",
      "[ 1.17552283  0.4392341 ]\n",
      "H = 0.855 m. Las raices positivas y reales son:\n",
      "[ 1.15657632  0.44453981]\n",
      "H = 0.87 m. Las raices positivas y reales son:\n",
      "[ 1.1373735  0.4501177]\n",
      "H = 0.885 m. Las raices positivas y reales son:\n",
      "[ 1.11788473  0.45599771]\n",
      "H = 0.9 m. Las raices positivas y reales son:\n",
      "[ 1.09807487  0.46221524]\n",
      "H = 0.915 m. Las raices positivas y reales son:\n",
      "[ 1.07790175  0.46881278]\n",
      "H = 0.93 m. Las raices positivas y reales son:\n",
      "[ 1.0573141   0.47584191]\n",
      "H = 0.945 m. Las raices positivas y reales son:\n",
      "[ 1.03624856  0.48336629]\n",
      "H = 0.96 m. Las raices positivas y reales son:\n",
      "[ 1.01462539  0.491466  ]\n",
      "H = 0.975 m. Las raices positivas y reales son:\n",
      "[ 0.99234197  0.50024395]\n",
      "H = 0.99 m. Las raices positivas y reales son:\n",
      "[ 0.96926262  0.5098362 ]\n",
      "H = 1.005 m. Las raices positivas y reales son:\n",
      "[ 0.94520162  0.52042879]\n",
      "H = 1.02 m. Las raices positivas y reales son:\n",
      "[ 0.91989332  0.53228773]\n",
      "H = 1.035 m. Las raices positivas y reales son:\n",
      "[ 0.89293439  0.5458167 ]\n",
      "H = 1.05 m. Las raices positivas y reales son:\n",
      "[ 0.86365837  0.56168254]\n",
      "H = 1.065 m. Las raices positivas y reales son:\n",
      "[ 0.83080919  0.5811417 ]\n",
      "H = 1.08 m. Las raices positivas y reales son:\n",
      "[ 0.79138259  0.60719882]\n",
      "H = 1.095 m. Las raices positivas y reales son:\n",
      "[ 0.73121182  0.65402105]\n",
      "H = 1.11 m. Las raices positivas y reales son:\n",
      "[]\n",
      "H = 1.125 m. Las raices positivas y reales son:\n",
      "[]\n",
      "H = 1.14 m. Las raices positivas y reales son:\n",
      "[]\n",
      "H = 1.155 m. Las raices positivas y reales son:\n",
      "[]\n",
      "H = 1.17 m. Las raices positivas y reales son:\n",
      "[]\n",
      "H = 1.185 m. Las raices positivas y reales son:\n",
      "[]\n",
      "H = 1.2 m. Las raices positivas y reales son:\n",
      "[]\n",
      "H = 1.215 m. Las raices positivas y reales son:\n",
      "[]\n",
      "H = 1.23 m. Las raices positivas y reales son:\n",
      "[]\n",
      "H = 1.245 m. Las raices positivas y reales son:\n",
      "[]\n",
      "H = 1.26 m. Las raices positivas y reales son:\n",
      "[]\n",
      "H = 1.275 m. Las raices positivas y reales son:\n",
      "[]\n",
      "H = 1.29 m. Las raices positivas y reales son:\n",
      "[]\n",
      "H = 1.305 m. Las raices positivas y reales son:\n",
      "[]\n",
      "H = 1.32 m. Las raices positivas y reales son:\n",
      "[]\n",
      "H = 1.335 m. Las raices positivas y reales son:\n",
      "[]\n",
      "H = 1.35 m. Las raices positivas y reales son:\n",
      "[]\n",
      "H = 1.365 m. Las raices positivas y reales son:\n",
      "[]\n",
      "H = 1.38 m. Las raices positivas y reales son:\n",
      "[]\n",
      "H = 1.395 m. Las raices positivas y reales son:\n",
      "[]\n",
      "H = 1.41 m. Las raices positivas y reales son:\n",
      "[]\n",
      "H = 1.425 m. Las raices positivas y reales son:\n",
      "[]\n",
      "H = 1.44 m. Las raices positivas y reales son:\n",
      "[]\n",
      "H = 1.455 m. Las raices positivas y reales son:\n",
      "[]\n",
      "H = 1.47 m. Las raices positivas y reales son:\n",
      "[]\n",
      "H = 1.485 m. Las raices positivas y reales son:\n",
      "[]\n",
      "H = 1.5 m. Las raices positivas y reales son:\n",
      "[]\n",
      "H = 1.515 m. Las raices positivas y reales son:\n",
      "[]\n",
      "H = 1.53 m. Las raices positivas y reales son:\n",
      "[]\n",
      "H = 1.545 m. Las raices positivas y reales son:\n",
      "[]\n",
      "H = 1.56 m. Las raices positivas y reales son:\n",
      "[]\n",
      "H = 1.575 m. Las raices positivas y reales son:\n",
      "[]\n",
      "H = 1.59 m. Las raices positivas y reales son:\n",
      "[]\n",
      "H = 1.605 m. Las raices positivas y reales son:\n",
      "[]\n",
      "H = 1.62 m. Las raices positivas y reales son:\n",
      "[]\n",
      "H = 1.635 m. Las raices positivas y reales son:\n",
      "[]\n",
      "H = 1.65 m. Las raices positivas y reales son:\n",
      "[]\n",
      "H = 1.665 m. Las raices positivas y reales son:\n",
      "[]\n",
      "H = 1.68 m. Las raices positivas y reales son:\n",
      "[]\n",
      "H = 1.695 m. Las raices positivas y reales son:\n",
      "[]\n",
      "H = 1.71 m. Las raices positivas y reales son:\n",
      "[]\n",
      "H = 1.725 m. Las raices positivas y reales son:\n",
      "[]\n",
      "H = 1.74 m. Las raices positivas y reales son:\n",
      "[]\n",
      "H = 1.755 m. Las raices positivas y reales son:\n",
      "[]\n",
      "H = 1.77 m. Las raices positivas y reales son:\n",
      "[]\n",
      "H = 1.785 m. Las raices positivas y reales son:\n",
      "[]\n",
      "H = 1.8 m. Las raices positivas y reales son:\n",
      "[]\n",
      "H = 1.815 m. Las raices positivas y reales son:\n",
      "[]\n",
      "H = 1.83 m. Las raices positivas y reales son:\n",
      "[]\n",
      "H = 1.845 m. Las raices positivas y reales son:\n",
      "[]\n",
      "H = 1.86 m. Las raices positivas y reales son:\n",
      "[]\n",
      "H = 1.875 m. Las raices positivas y reales son:\n",
      "[]\n",
      "H = 1.89 m. Las raices positivas y reales son:\n",
      "[]\n",
      "H = 1.905 m. Las raices positivas y reales son:\n",
      "[]\n",
      "H = 1.92 m. Las raices positivas y reales son:\n",
      "[]\n",
      "H = 1.935 m. Las raices positivas y reales son:\n",
      "[]\n",
      "H = 1.95 m. Las raices positivas y reales son:\n",
      "[]\n",
      "H = 1.965 m. Las raices positivas y reales son:\n",
      "[]\n",
      "H = 1.98 m. Las raices positivas y reales son:\n",
      "[]\n",
      "H = 1.995 m. Las raices positivas y reales son:\n",
      "[]\n"
     ]
    }
   ],
   "source": [
    "#Ahora se calculan las raices de la ecuación para distintos H\n",
    "\n",
    "H = np.arange(0,2,0.015)\n",
    "\n",
    "Roots = [] #Es una lista de que va a contener una lista de raices para cada H.\n",
    "for hi in range(len(H)):\n",
    "    coefs = [1,-(2.135-H[hi]),0,0.1651]\n",
    "    raices = np.roots(coefs)\n",
    "    raices=raices[(raices>0)&(np.isreal(raices)==True)] ## Solo tomamos las raices\n",
    "    Roots.append(raices)\n",
    "    #positivas y reales\n",
    "    print 'H = '+str(H[hi])+' m. Las raices positivas y reales son:'\n",
    "    print raices"
   ]
  },
  {
   "cell_type": "code",
   "execution_count": 66,
   "metadata": {},
   "outputs": [
    {
     "name": "stderr",
     "output_type": "stream",
     "text": [
      "/usr/lib/python2.7/dist-packages/numpy/core/numeric.py:583: ComplexWarning: Casting complex values to real discards the imaginary part\n",
      "  return array(a, dtype, copy=False, order=order, subok=True)\n"
     ]
    },
    {
     "data": {
      "image/png": "[encoded data removed]",
      "text/plain": [
       "<matplotlib.figure.Figure at 0x7f8417c20350>"
      ]
     },
     "metadata": {
      "needs_background": "light"
     },
     "output_type": "display_data"
    }
   ],
   "source": [
    "#Ahora ploteamos todos los puntos:\n",
    "\n",
    "plt.figure(figsize=(10,10))\n",
    "for i in range(len(H)):\n",
    "    x= np.ones_like(Roots[i])*H[i] # array con valores repetidos para cada H de la longitud\n",
    "    #del array de raices.\n",
    "    plt.scatter(x,Roots[i],marker='.',color='k')\n",
    "plt.ylabel('h2 [m]')\n",
    "plt.xlabel('H [m]')\n",
    "plt.grid()"
   ]
  },
  {
   "cell_type": "markdown",
   "metadata": {},
   "source": [
    "Se observa que para valores de H mayores a 1.1 no existen raices reales positivas."
   ]
  },
  {
   "cell_type": "markdown",
   "metadata": {},
   "source": [
    "# Cinemática"
   ]
  },
  {
   "cell_type": "markdown",
   "metadata": {},
   "source": [
    "## 1."
   ]
  },
  {
   "cell_type": "markdown",
   "metadata": {},
   "source": [
    "Fluye agua a través de una tubería con $\\textbf{V} = u(t) \\hat{\\imath}$, las medidas aproximadas de $u(t)$ se muestran en la tabla. Calcule y gafique la aceleración en función del tiempo para $0 \\leq t \\leq 20s$. Calcule y grafique además la aceleración como función del tiempo si todos los valores de $u(t)$ se incrementan con un factor de 2, y por un factor de 5."
   ]
  },
  {
   "cell_type": "markdown",
   "metadata": {},
   "source": [
    "<img src=\"FigurasEjercicios/4_1.png\">"
   ]
  },
  {
   "cell_type": "markdown",
   "metadata": {},
   "source": [
    "#### Desarrollo"
   ]
  },
  {
   "cell_type": "markdown",
   "metadata": {},
   "source": [
    "La aceleración total se define como:\n",
    "\n",
    "\\begin{equation}\n",
    "    \\vec{a} = \\frac{\\partial \\vec{V}}{\\partial t} + \\vec{V} \\cdot \\nabla \\vec{V}\n",
    "\\end{equation}\n",
    "\n",
    "con $u=u(t)$, $v=0$ y $w=0$, se tiene:\n",
    "\n",
    "\n",
    "\\begin{equation}\n",
    "    \\vec{a} = (\\frac{\\partial u}{\\partial t} + u \\frac{\\partial u}{\\partial x})\\hat{\\imath} \n",
    "\\end{equation}  \n",
    "\n",
    "o \n",
    "\n",
    "\\begin{equation}\n",
    "    a_{x} =  \\frac{\\partial u}{\\partial t}\n",
    "\\end{equation}  "
   ]
  },
  {
   "cell_type": "code",
   "execution_count": 67,
   "metadata": {},
   "outputs": [],
   "source": [
    "#Creamos los arrays correspondientes a u y a t"
   ]
  },
  {
   "cell_type": "code",
   "execution_count": 68,
   "metadata": {},
   "outputs": [],
   "source": [
    "t = np.array([0,1.8,3.1,4.0,5.5,6.9,8.1,10,11.2,12.3,13.9,15.0,16.4,17.5,18.4,20])\n",
    "u = np.array([0,1.7,3.2,3.8,4.6,5.8,6.3,7.1,8.1,8.4,8.3,8.1,7.9,7,6.6,5.7])"
   ]
  },
  {
   "cell_type": "code",
   "execution_count": 71,
   "metadata": {},
   "outputs": [],
   "source": [
    "# Para calcular la aceleración, restamos el vector de velocidad con sigo mismo, y \n",
    "#lo dividimos por la resta del vector de tiempo."
   ]
  },
  {
   "cell_type": "code",
   "execution_count": 91,
   "metadata": {},
   "outputs": [
    {
     "name": "stdout",
     "output_type": "stream",
     "text": [
      "[ 0.94444444  1.15384615  0.66666667  0.53333333  0.85714286  0.41666667\n",
      "  0.42105263  0.83333333  0.27272727 -0.0625     -0.18181818 -0.14285714\n",
      " -0.81818182 -0.44444444 -0.5625    ]\n",
      "[ft/s2]\n"
     ]
    }
   ],
   "source": [
    "a = np.diff(u)/np.diff(t) ##ft/s2\n",
    "print a\n",
    "print '[ft/s2]'"
   ]
  },
  {
   "cell_type": "code",
   "execution_count": 76,
   "metadata": {},
   "outputs": [],
   "source": [
    "#Ahora para u = 2u y u = 5u\n",
    "\n",
    "u2=2*u\n",
    "u5=5*u\n",
    "\n",
    "a2=np.diff(u2)/np.diff(t)\n",
    "a5=np.diff(u5)/np.diff(t)"
   ]
  },
  {
   "cell_type": "code",
   "execution_count": 89,
   "metadata": {},
   "outputs": [
    {
     "data": {
      "image/png": "[encoded data removed]",
      "text/plain": [
       "<matplotlib.figure.Figure at 0x7f8444714d50>"
      ]
     },
     "metadata": {
      "needs_background": "light"
     },
     "output_type": "display_data"
    }
   ],
   "source": [
    "\n",
    "plt.plot(t,u)\n",
    "plt.plot(t,u,'*')\n",
    "plt.ylabel('u [ft/s]')\n",
    "plt.xlabel('t [s]')\n",
    "\n",
    "plt.grid()\n",
    "plt.show()"
   ]
  },
  {
   "cell_type": "code",
   "execution_count": 87,
   "metadata": {},
   "outputs": [
    {
     "data": {
      "text/plain": [
       "Text(0.5,0,u't [s]')"
      ]
     },
     "execution_count": 87,
     "metadata": {},
     "output_type": "execute_result"
    },
    {
     "data": {
      "image/png": "[encoded data removed]",
      "text/plain": [
       "<matplotlib.figure.Figure at 0x7f841798a4d0>"
      ]
     },
     "metadata": {
      "needs_background": "light"
     },
     "output_type": "display_data"
    }
   ],
   "source": [
    "plt.plot(t[:-1],a,label = 'u = u')\n",
    "plt.plot(t[:-1],a2,label = 'u = 2 u')\n",
    "plt.plot(t[:-1],a5,label = ' u = 5 u')\n",
    "plt.legend()\n",
    "plt.grid()\n",
    "plt.ylabel('a [ft/s2]')\n",
    "plt.xlabel('t [s]')"
   ]
  },
  {
   "cell_type": "markdown",
   "metadata": {},
   "source": [
    "## 2."
   ]
  },
  {
   "cell_type": "markdown",
   "metadata": {},
   "source": [
    "Como se indica en la figura, la velocidad en el exhosto de un carro varía con respecto al tiempo y la distancia a causa de la naturaleza periódica del funcionamiento del motor, y al efecto de amortiguamiento con la distancia desde el motor. Asuma que la velocidad destá dada por $V = V_{0}[1+ae^{-bx}sin(\\omega t)]$, donde $V_{0} = 8 fps$, $a = 0.05$, $b = 0.2 ft^{-1}$ y $\\omega = 50 rad/s$. Calcule y plotee la aceleración del fluido en x = 0,1,2,3,4 y 5 ft para $0 \\leq t \\leq \\pi / 25 s$"
   ]
  },
  {
   "cell_type": "markdown",
   "metadata": {},
   "source": [
    "<img src=\"FigurasEjercicios/4_2.png\">"
   ]
  },
  {
   "cell_type": "markdown",
   "metadata": {},
   "source": [
    "#### Desarrollo"
   ]
  },
  {
   "cell_type": "markdown",
   "metadata": {},
   "source": [
    "Como $u = u(x,t)$, $v=0$, y $w=0$, entonces se tiene:\n",
    "\n",
    "\\begin{equation}\n",
    "    \\vec{a} = (\\frac{\\partial u}{\\partial t} + u \\frac{\\partial u}{\\partial x})\\hat{\\imath} \n",
    "\\end{equation}  \n",
    "\n",
    "\n",
    "Entonces, con $u = V_{0}[1+ae^{-bx}sin(\\omega t)]$, se obtiene lo siguiente:\n",
    "\n",
    "\\begin{equation}\n",
    "    a_{x} = V_{0} a e^{-bx} [\\omega cos(\\omega t)-V_{0}b sin(\\omega t)(1+ae^{-bx}sin(\\omega t))]\n",
    "\\end{equation}  \n",
    "\n",
    "Con $V_{0}=8 ft/s$, $a=0.05$, $b=0.2 1/ft$, y $\\omega = 50 rad/s$, se tiene:\n",
    "\n",
    "\\begin{equation}\n",
    "    a_{x} = 0.4 e^{-0.2x} [50 cos(50 t)-1.6 sin(50 t)(1+0.05e^{-0.2x}sin(50 t))]\n",
    "\\end{equation}\n",
    "\n"
   ]
  },
  {
   "cell_type": "code",
   "execution_count": 98,
   "metadata": {},
   "outputs": [
    {
     "name": "stdout",
     "output_type": "stream",
     "text": [
      "Las aceleraciones para cada x son: \n",
      "------------------------------------ x = 0 ft ------------------------------------\n",
      "t [s]:\n",
      "[ 0.    0.01  0.02  0.03  0.04  0.05  0.06  0.07  0.08  0.09  0.1   0.11\n",
      "  0.12]\n",
      "ax [ft/s2]:\n",
      "[ 20.          17.23746373  10.24484634   0.74450736  -8.93134538\n",
      " -16.41735589 -19.89080401 -18.50857004 -12.60684682  -3.6208748\n",
      "   6.2575301   14.60901211  19.37973332]\n",
      "------------------------------------ x = 1 ft ------------------------------------\n",
      "t [s]:\n",
      "[ 0.    0.01  0.02  0.03  0.04  0.05  0.06  0.07  0.08  0.09  0.1   0.11\n",
      "  0.12]\n",
      "ax [ft/s2]:\n",
      "[ 16.37461506  14.11393325   8.3911335    0.61427645  -7.30844044\n",
      " -13.43969315 -16.28511837 -15.15295111 -10.31889312  -2.95998343\n",
      "   5.12759934  11.96321154  15.86715443]\n",
      "------------------------------------ x = 2 ft ------------------------------------\n",
      "t [s]:\n",
      "[ 0.    0.01  0.02  0.03  0.04  0.05  0.06  0.07  0.08  0.09  0.1   0.11\n",
      "  0.12]\n",
      "ax [ft/s2]:\n",
      "[ 13.40640092  11.55624291   6.87233316   0.50609454  -5.9810128\n",
      " -11.00234989 -13.33306383 -12.40579536  -8.44657182  -2.42038748\n",
      "   4.20105056   9.79623388  12.99117584]\n",
      "------------------------------------ x = 3 ft ------------------------------------\n",
      "t [s]:\n",
      "[ 0.    0.01  0.02  0.03  0.04  0.05  0.06  0.07  0.08  0.09  0.1   0.11\n",
      "  0.12]\n",
      "ax [ft/s2]:\n",
      "[ 10.97623272   9.46194194   5.62810148   0.41647841  -4.89507474\n",
      "  -9.0071979  -10.91614689 -10.1567436   -6.9142459   -1.97960656\n",
      "   3.44149151   8.02154018  10.63644178]\n",
      "------------------------------------ x = 4 ft ------------------------------------\n",
      "t [s]:\n",
      "[ 0.    0.01  0.02  0.03  0.04  0.05  0.06  0.07  0.08  0.09  0.1   0.11\n",
      "  0.12]\n",
      "ax [ft/s2]:\n",
      "[ 8.98657928  7.74711163  4.6089126   0.34240694 -4.00656553 -7.37395759\n",
      " -8.93735668 -8.31546232 -5.66008648 -1.61939791  2.81897025  6.56819367\n",
      "  8.70849366]\n",
      "------------------------------------ x = 5 ft ------------------------------------\n",
      "t [s]:\n",
      "[ 0.    0.01  0.02  0.03  0.04  0.05  0.06  0.07  0.08  0.09  0.1   0.11\n",
      "  0.12]\n",
      "ax [ft/s2]:\n",
      "[ 7.35758882  6.34301892  3.77413741  0.28129313 -3.27950563 -6.03694243\n",
      " -7.31726967 -6.80800675 -4.63353769 -1.32493464  2.30885932  5.37805945\n",
      "  7.12998644]\n"
     ]
    }
   ],
   "source": [
    "#Creamos los arreglos correspondientes a x y a t\n",
    "\n",
    "x = np.array([0,1,2,3,4,5])\n",
    "t=np.arange(0,np.pi/25.,0.01)\n",
    "\n",
    "ax = np.zeros([len(x),len(t)])\n",
    "print 'Las aceleraciones para cada x son: '\n",
    "\n",
    "\n",
    "for xi in range(len(x)):\n",
    "    print '------------------------------------ x = '+str(x[xi])+' ft ------------------------------------'\n",
    "    print 't [s]:'\n",
    "    print t\n",
    "    ax[xi,:]=0.4*np.e**(-0.2*x[xi])* \\\n",
    "    (50*np.cos(50*t)-1.6*np.sin(50*t)*(1+0.05*np.e**(-0.2*x[xi])*np.sin(50*t)))\n",
    "    print 'ax [ft/s2]:'\n",
    "    print ax[xi]"
   ]
  },
  {
   "cell_type": "code",
   "execution_count": 100,
   "metadata": {},
   "outputs": [
    {
     "data": {
      "image/png": "[encoded data removed]",
      "text/plain": [
       "<matplotlib.figure.Figure at 0x7f84443e0f90>"
      ]
     },
     "metadata": {
      "needs_background": "light"
     },
     "output_type": "display_data"
    }
   ],
   "source": [
    "plt.figure(figsize=(12,6))\n",
    "\n",
    "for xi in range(len(x)):\n",
    "    plt.plot(t,ax[xi],label='x = '+str(x[xi])+' ft.')\n",
    "    plt.plot(t,ax[xi],'.',color='k')\n",
    "    \n",
    "plt.grid()\n",
    "# plt.ylim(-0.05,0.2)\n",
    "# plt.xlim(0,300)\n",
    "plt.legend()\n",
    "# plt.gca().invert_yaxis()\n",
    "plt.ylabel(u'ax [ft/s2]')\n",
    "plt.xlabel(u't [s]')\n",
    "plt.show()"
   ]
  },
  {
   "cell_type": "markdown",
   "metadata": {},
   "source": [
    "## 3."
   ]
  },
  {
   "cell_type": "markdown",
   "metadata": {},
   "source": [
    "Se tiene un campo de velocidad en x y en y definido por,\n",
    "\n",
    "\\begin{equation}\n",
    "    u = \\frac{(x^{2}-2xy+y)sin(\\pi x/100)}{1000} sin(\\frac{\\pi (t+1)}{10})\n",
    "\\end{equation}\n",
    "\n",
    "\\begin{equation}\n",
    "    v = \\frac{(x^{-2}-xy/100+y/2)}{10} sin(\\frac{\\pi (t-1)}{10})\n",
    "\\end{equation}\n",
    "\n",
    "Con x y y en metros, t en segundos, u y v en $m/s$.\n",
    "\n",
    "- Grafique el campo de velocidades, para $t=2s$ (mostrando magnitud y dirección)\n",
    "- Grafique las lineas de corriente para $t=2s$\n",
    "- Calcule y grafique las aceleraciones local y advectiva, cuáles son los valores para x=50m, y=50m, t=2s\n",
    "- Calcule y grafique la trayectoria para las partículas/parcelas iniciando en t=0, y terminando en t=20, con sus puntos iniciales sobre la línea x=y."
   ]
  },
  {
   "cell_type": "markdown",
   "metadata": {},
   "source": [
    "#### Desarrollo"
   ]
  },
  {
   "cell_type": "markdown",
   "metadata": {},
   "source": [
    "Se definen los arrays x, y, t"
   ]
  },
  {
   "cell_type": "code",
   "execution_count": 163,
   "metadata": {},
   "outputs": [],
   "source": [
    "x = np.arange(0,101,1).astype(float)\n",
    "y = np.arange(0,101,1).astype(float)"
   ]
  },
  {
   "cell_type": "code",
   "execution_count": 164,
   "metadata": {},
   "outputs": [],
   "source": [
    "t = np.arange(0,20)"
   ]
  },
  {
   "cell_type": "code",
   "execution_count": 165,
   "metadata": {},
   "outputs": [],
   "source": [
    "## Creamos una malla de pares x, y, con el fin de posteriormente definir para cada punto de la malla \n",
    "## el campo de velocidades.\n",
    "\n",
    "xx,yy=np.meshgrid(x,y)"
   ]
  },
  {
   "cell_type": "markdown",
   "metadata": {},
   "source": [
    "Calculamos el campo de velocidades para todas las posiciones (x,y) y todos los tiempos t."
   ]
  },
  {
   "cell_type": "code",
   "execution_count": 166,
   "metadata": {},
   "outputs": [
    {
     "name": "stderr",
     "output_type": "stream",
     "text": [
      "/home/jsperezc/.local/lib/python2.7/site-packages/ipykernel_launcher.py:11: RuntimeWarning: divide by zero encountered in power\n",
      "  # This is added back by InteractiveShellApp.init_path()\n",
      "/home/jsperezc/.local/lib/python2.7/site-packages/ipykernel_launcher.py:11: RuntimeWarning: invalid value encountered in multiply\n",
      "  # This is added back by InteractiveShellApp.init_path()\n"
     ]
    }
   ],
   "source": [
    "# Creamos arrays de 3 dimensiones (t,y,x)\n",
    "\n",
    "U = np.zeros([len(t),len(y),len(x)])\n",
    "V = np.zeros([len(t),len(y),len(x)])\n",
    "\n",
    "#iteramos en el tiempo\n",
    "\n",
    "\n",
    "for ti in range(len(t)):\n",
    "    U[ti] = ((xx**2-(2*yy*xx)+yy)*np.sin(np.pi*xx/100)/1000.)*np.sin(np.pi*(t[ti]+1)/10)\n",
    "    V[ti] = (xx**-2-(yy*xx/100)+yy*0.5)/10.*np.sin(np.pi*(t[ti]-1)/10)"
   ]
  },
  {
   "cell_type": "markdown",
   "metadata": {},
   "source": [
    "Encontramos la posición en la que t=2,"
   ]
  },
  {
   "cell_type": "code",
   "execution_count": 170,
   "metadata": {},
   "outputs": [],
   "source": [
    "posi_t = np.where(t==2)[0][0]"
   ]
  },
  {
   "cell_type": "markdown",
   "metadata": {},
   "source": [
    "Graficamos entonces para t=2"
   ]
  },
  {
   "cell_type": "code",
   "execution_count": 225,
   "metadata": {},
   "outputs": [
    {
     "data": {
      "image/png": "[encoded data removed]",
      "text/plain": [
       "<matplotlib.figure.Figure at 0x7f840f5f0f90>"
      ]
     },
     "metadata": {
      "needs_background": "light"
     },
     "output_type": "display_data"
    }
   ],
   "source": [
    "salto=10\n",
    "intervalos=41\n",
    "mini=-2\n",
    "maxi=2\n",
    "bounds=np.linspace(mini,maxi,intervalos)\n",
    "cs = plt.contourf(xx,yy,V[posi_t],cmap='RdBu' ,vmin=mini,vmax=maxi, levels=bounds, extend='both',zorder=0)\n",
    "plt.ylabel('Y [m]')\n",
    "plt.ylabel('X [m]')\n",
    "\n",
    "cbar = plt.colorbar()\n",
    "cbar.set_label(u'V [m/s]')\n",
    "plt.title('V')\n",
    "plt.show()"
   ]
  },
  {
   "cell_type": "code",
   "execution_count": 224,
   "metadata": {},
   "outputs": [
    {
     "data": {
      "image/png": "[encoded data removed]",
      "text/plain": [
       "<matplotlib.figure.Figure at 0x7f840f95c2d0>"
      ]
     },
     "metadata": {
      "needs_background": "light"
     },
     "output_type": "display_data"
    }
   ],
   "source": [
    "salto=10\n",
    "intervalos=41\n",
    "mini=-5\n",
    "maxi=5\n",
    "bounds=np.linspace(mini,maxi,intervalos)\n",
    "cs = plt.contourf(xx,yy,U[posi_t],cmap='RdBu' ,vmin=mini,vmax=maxi, levels=bounds, extend='both',zorder=0)\n",
    "plt.ylabel('Y [m]')\n",
    "plt.xlabel('X [m]')\n",
    "\n",
    "cbar = plt.colorbar()\n",
    "cbar.set_label(u'U [m/s]')\n",
    "plt.title('U')\n",
    "plt.show()"
   ]
  },
  {
   "cell_type": "markdown",
   "metadata": {},
   "source": [
    "La magintud de la velocidad es "
   ]
  },
  {
   "cell_type": "code",
   "execution_count": 200,
   "metadata": {},
   "outputs": [],
   "source": [
    "mag = np.sqrt(U**2+V**2)"
   ]
  },
  {
   "cell_type": "code",
   "execution_count": 243,
   "metadata": {},
   "outputs": [
    {
     "data": {
      "image/png": "[encoded data removed]",
      "text/plain": [
       "<matplotlib.figure.Figure at 0x7f840f4f4550>"
      ]
     },
     "metadata": {
      "needs_background": "light"
     },
     "output_type": "display_data"
    }
   ],
   "source": [
    "salto=10\n",
    "intervalos=41\n",
    "mini=0\n",
    "maxi=8\n",
    "bounds=np.linspace(mini,maxi,intervalos)\n",
    "cs = plt.contourf(xx,yy,mag[posi_t],cmap='jet' ,vmin=mini,vmax=maxi, levels=bounds, extend='max',zorder=0,alpha=0.7)\n",
    "plt.ylabel('Y [m]')\n",
    "# plt.grid()\n",
    "plt.xlabel('X [m]')\n",
    "Q = plt.quiver(xx[::salto,::salto],yy[::salto,::salto], U[posi_t][::salto,::salto],(V[posi_t][::salto,::salto]),scale=40, width=0.0060, headlength=3)\n",
    "plt.quiverkey(Q, 1.08, 1.025, 5, '5 $m/s$')\n",
    "\n",
    "cbar = plt.colorbar(cs)\n",
    "cbar.set_label(u'U [m/s]')\n",
    "plt.title(u'Magnitud y dirección')\n",
    "plt.show()"
   ]
  },
  {
   "cell_type": "markdown",
   "metadata": {},
   "source": [
    "Ploteamos las lineas de corriente para t=2, con la magnitud de la velocidad."
   ]
  },
  {
   "cell_type": "code",
   "execution_count": 244,
   "metadata": {},
   "outputs": [
    {
     "data": {
      "image/png": "[encoded data removed]",
      "text/plain": [
       "<matplotlib.figure.Figure at 0x7f840fdfb7d0>"
      ]
     },
     "metadata": {
      "needs_background": "light"
     },
     "output_type": "display_data"
    }
   ],
   "source": [
    "salto=10\n",
    "intervalos=41\n",
    "mini=0\n",
    "maxi=8\n",
    "bounds=np.linspace(mini,maxi,intervalos)\n",
    "cs = plt.contourf(xx,yy,mag[posi_t],cmap='jet' ,vmin=mini,vmax=maxi, levels=bounds, extend='max',zorder=0,alpha=0.2)\n",
    "plt.ylabel('Y [m]')\n",
    "# plt.grid()\n",
    "plt.xlabel('X [m]')\n",
    "plt.ylim(0,100)\n",
    "plt.streamplot(x, y, U[posi_t], V[posi_t], linewidth=2, color='k')\n",
    "\n",
    "cbar = plt.colorbar(cs)\n",
    "cbar.set_label(u'U [m/s]')\n",
    "plt.title(u'Lineas de corriente')\n",
    "plt.show()"
   ]
  },
  {
   "cell_type": "markdown",
   "metadata": {},
   "source": [
    "Calculamos la aceleración local y advectiva en cada componente, y graficamos para t=2s"
   ]
  },
  {
   "cell_type": "markdown",
   "metadata": {},
   "source": [
    "Aceleración local en x,\n",
    "\n",
    "\\begin{equation}\n",
    "    a_{lx} = \\frac{\\partial u}{\\partial t} \n",
    "\\end{equation}  \n",
    "\n",
    "Aceleración local en y,\n",
    "\n",
    "\\begin{equation}\n",
    "    a_{ly} = \\frac{\\partial v}{\\partial t} \n",
    "\\end{equation}  \n",
    "\n",
    "Aceleración advectiva en x,\n",
    "\n",
    "\\begin{equation}\n",
    "    a_{ax} = u \\frac{\\partial u}{\\partial x} \n",
    "\\end{equation}\n",
    "\n",
    "Aceleración advectiva en y,\n",
    "\n",
    "\\begin{equation}\n",
    "    a_{ay} = v \\frac{\\partial v}{\\partial y} \n",
    "\\end{equation}"
   ]
  },
  {
   "cell_type": "markdown",
   "metadata": {},
   "source": [
    "Para cada componente entonces, tenemos"
   ]
  },
  {
   "cell_type": "markdown",
   "metadata": {},
   "source": [
    "\\begin{equation}\n",
    "    a_{lx} = \\frac{\\partial u}{\\partial t} \n",
    "\\end{equation} "
   ]
  },
  {
   "cell_type": "code",
   "execution_count": 269,
   "metadata": {},
   "outputs": [],
   "source": [
    "dx = 1.\n",
    "dy = 1.\n",
    "dt = 1."
   ]
  },
  {
   "cell_type": "code",
   "execution_count": 270,
   "metadata": {},
   "outputs": [],
   "source": [
    "alx = np.diff(U,axis=0)/dt"
   ]
  },
  {
   "cell_type": "code",
   "execution_count": 271,
   "metadata": {},
   "outputs": [
    {
     "data": {
      "image/png": "[encoded data removed]",
      "text/plain": [
       "<matplotlib.figure.Figure at 0x7f8414045d50>"
      ]
     },
     "metadata": {
      "needs_background": "light"
     },
     "output_type": "display_data"
    }
   ],
   "source": [
    "salto=10\n",
    "intervalos=41\n",
    "mini=-1\n",
    "maxi=1\n",
    "bounds=np.linspace(mini,maxi,intervalos)\n",
    "cs = plt.contourf(xx,yy,alx[posi_t],cmap='RdBu' ,vmin=mini,vmax=maxi, levels=bounds, extend='both',zorder=0)\n",
    "plt.ylabel('Y [m]')\n",
    "plt.xlabel('X [m]')\n",
    "\n",
    "cbar = plt.colorbar()\n",
    "cbar.set_label(u'[m/s2]')\n",
    "plt.title(u'Aceleración local en x')\n",
    "plt.show()"
   ]
  },
  {
   "cell_type": "code",
   "execution_count": 272,
   "metadata": {},
   "outputs": [],
   "source": [
    "# Buscamos las posiciones x=50, y=50 y t= 2\n",
    "\n",
    "donde_x = np.where(x==50)[0][0]\n",
    "donde_y = np.where(y==50)[0][0]\n",
    "donde_t = np.where(t==2)[0][0]"
   ]
  },
  {
   "cell_type": "code",
   "execution_count": 273,
   "metadata": {},
   "outputs": [
    {
     "name": "stdout",
     "output_type": "stream",
     "text": [
      "La aceleración local en x para x=50, y=50, t=2 es: \n",
      "-0.347996828705\n",
      "[m/s2]\n"
     ]
    }
   ],
   "source": [
    "print 'La aceleración local en x para x=50, y=50, t=2 es: '\n",
    "print alx[donde_t,donde_y,donde_x]\n",
    "print '[m/s2]'"
   ]
  },
  {
   "cell_type": "markdown",
   "metadata": {},
   "source": [
    "\\begin{equation}\n",
    "    a_{ly} = \\frac{\\partial v}{\\partial t} \n",
    "\\end{equation} "
   ]
  },
  {
   "cell_type": "code",
   "execution_count": 283,
   "metadata": {},
   "outputs": [],
   "source": [
    "aly = np.diff(V,axis=0)/dt"
   ]
  },
  {
   "cell_type": "code",
   "execution_count": 284,
   "metadata": {},
   "outputs": [
    {
     "data": {
      "image/png": "[encoded data removed]",
      "text/plain": [
       "<matplotlib.figure.Figure at 0x7f840f698ad0>"
      ]
     },
     "metadata": {
      "needs_background": "light"
     },
     "output_type": "display_data"
    }
   ],
   "source": [
    "salto=10\n",
    "intervalos=41\n",
    "mini=-1\n",
    "maxi=1\n",
    "bounds=np.linspace(mini,maxi,intervalos)\n",
    "cs = plt.contourf(xx,yy,aly[posi_t],cmap='RdBu' ,vmin=mini,vmax=maxi, levels=bounds, extend='both',zorder=0)\n",
    "plt.ylabel('Y [m]')\n",
    "plt.xlabel('X [m]')\n",
    "\n",
    "cbar = plt.colorbar()\n",
    "cbar.set_label(u'[m/s2]')\n",
    "plt.title(u'Aceleración local en y')\n",
    "plt.show()"
   ]
  },
  {
   "cell_type": "code",
   "execution_count": 285,
   "metadata": {},
   "outputs": [
    {
     "name": "stdout",
     "output_type": "stream",
     "text": [
      "La aceleración local en y para x=50, y=50, t=2 es: \n",
      "1.11507303167e-05\n",
      "[m/s2]\n"
     ]
    }
   ],
   "source": [
    "print 'La aceleración local en y para x=50, y=50, t=2 es: '\n",
    "print aly[donde_t,donde_y,donde_x]\n",
    "print '[m/s2]'"
   ]
  },
  {
   "cell_type": "markdown",
   "metadata": {},
   "source": [
    "\\begin{equation}\n",
    "    a_{ax} = u \\frac{\\partial u}{\\partial x} \n",
    "\\end{equation} "
   ]
  },
  {
   "cell_type": "code",
   "execution_count": 290,
   "metadata": {},
   "outputs": [],
   "source": [
    "aax = U[:,:,:-1]*np.diff(U,axis=2)/dx"
   ]
  },
  {
   "cell_type": "code",
   "execution_count": 291,
   "metadata": {},
   "outputs": [
    {
     "data": {
      "image/png": "[encoded data removed]",
      "text/plain": [
       "<matplotlib.figure.Figure at 0x7f840f019510>"
      ]
     },
     "metadata": {
      "needs_background": "light"
     },
     "output_type": "display_data"
    }
   ],
   "source": [
    "salto=10\n",
    "intervalos=41\n",
    "mini=-1\n",
    "maxi=1\n",
    "bounds=np.linspace(mini,maxi,intervalos)\n",
    "cs = plt.contourf(xx[:,:-1],yy[:,:-1],aax[posi_t],cmap='RdBu' ,vmin=mini,vmax=maxi, levels=bounds, extend='both',zorder=0)\n",
    "plt.ylabel('Y [m]')\n",
    "plt.xlabel('X [m]')\n",
    "\n",
    "cbar = plt.colorbar()\n",
    "cbar.set_label(u'[m/s2]')\n",
    "plt.title(u'Aceleración advectiva en x')\n",
    "plt.show()"
   ]
  },
  {
   "cell_type": "code",
   "execution_count": 293,
   "metadata": {},
   "outputs": [
    {
     "name": "stdout",
     "output_type": "stream",
     "text": [
      "La aceleración advectiva en x para x=50, y=50, t=2 es: \n",
      "-0.003541324567\n",
      "[m/s2]\n"
     ]
    }
   ],
   "source": [
    "print 'La aceleración advectiva en x para x=50, y=50, t=2 es: '\n",
    "print aax[donde_t,donde_y,donde_x]\n",
    "print '[m/s2]'"
   ]
  },
  {
   "cell_type": "markdown",
   "metadata": {},
   "source": [
    "\\begin{equation}\n",
    "    a_{ay} = v \\frac{\\partial v}{\\partial y} \n",
    "\\end{equation} "
   ]
  },
  {
   "cell_type": "code",
   "execution_count": 295,
   "metadata": {},
   "outputs": [],
   "source": [
    "aay = V[:,:-1,:]*np.diff(V,axis=1)/dy"
   ]
  },
  {
   "cell_type": "code",
   "execution_count": 303,
   "metadata": {},
   "outputs": [
    {
     "data": {
      "image/png": "[encoded data removed]",
      "text/plain": [
       "<matplotlib.figure.Figure at 0x7f840fb6a950>"
      ]
     },
     "metadata": {
      "needs_background": "light"
     },
     "output_type": "display_data"
    }
   ],
   "source": [
    "salto=10\n",
    "intervalos=41\n",
    "mini=-0.05\n",
    "maxi=0.05\n",
    "bounds=np.linspace(mini,maxi,intervalos)\n",
    "cs = plt.contourf(xx[:-1,:],yy[:-1,:],aay[posi_t],cmap='RdBu' ,vmin=mini,vmax=maxi, levels=bounds, extend='both',zorder=0)\n",
    "plt.ylabel('Y [m]')\n",
    "plt.xlabel('X [m]')\n",
    "\n",
    "cbar = plt.colorbar()\n",
    "cbar.set_label(u'[m/s2]')\n",
    "plt.title(u'Aceleración advectiva en y')\n",
    "plt.show()"
   ]
  },
  {
   "cell_type": "code",
   "execution_count": 304,
   "metadata": {},
   "outputs": [
    {
     "name": "stdout",
     "output_type": "stream",
     "text": [
      "La aceleración advectiva en y para x=50, y=50, t=2 es: \n",
      "0.0\n",
      "[m/s2]\n"
     ]
    }
   ],
   "source": [
    "print 'La aceleración advectiva en y para x=50, y=50, t=2 es: '\n",
    "print aay[donde_t,donde_y,donde_x]\n",
    "print '[m/s2]'"
   ]
  },
  {
   "cell_type": "markdown",
   "metadata": {},
   "source": [
    "Cálculo de las trayectorias."
   ]
  },
  {
   "cell_type": "code",
   "execution_count": 322,
   "metadata": {},
   "outputs": [],
   "source": [
    "# inicialmente, definimos una función para buscar la velocidad en un punto en el espacio-tiempo\n",
    "\n",
    "#con esta función encontramos el punto más cercano en una malla x y y\n",
    "def find_nearest_2D(Y_Mesh,X_Mesh,y,x):\n",
    "    \n",
    "    diff_Y=abs(Y_Mesh-y)\n",
    "    diff_X=abs(X_Mesh-x)\n",
    "\n",
    "    return np.where((diff_Y==np.nanmin(diff_Y))&(diff_X==np.nanmin(diff_X)))\n",
    "\n",
    "# Con esta función se obtiene la velocidad en un punto, se ingresan los arreglos U, V, la malla de X, \n",
    "# la malla de Y, y las posiciones y y x. \n",
    "\n",
    "def obt_vel(Ut,Vt,X_Mesh,Y_Mesh,y,x):\n",
    "    posixy = find_nearest_2D(X_Mesh,Y_Mesh,y,x)\n",
    "    return Ut[posixy][0],Vt[posixy][0]"
   ]
  },
  {
   "cell_type": "code",
   "execution_count": 339,
   "metadata": {
    "scrolled": true
   },
   "outputs": [
    {
     "name": "stdout",
     "output_type": "stream",
     "text": [
      "-------------------Trayectoria con puntos iniciales en x = 10m, y = 10m.------------\n",
      "t = 0 s.\n",
      "       x = 10 m.\n",
      "       y = 10 m.\n",
      "t = 1 s.\n",
      "       x = 9.99140576475 m.\n",
      "       y = 9.87608418526 m.\n",
      "t = 2 s.\n",
      "       x = 9.97505855787 m.\n",
      "       y = 9.87608418526 m.\n",
      "t = 3 s.\n",
      "       x = 9.95255855787 m.\n",
      "       y = 10.0 m.\n",
      "t = 4 s.\n",
      "       x = 9.92610822151 m.\n",
      "       y = 10.2357018862 m.\n",
      "t = 5 s.\n",
      "       x = 9.89829669202 m.\n",
      "       y = 10.5601177009 m.\n",
      "t = 6 s.\n",
      "       x = 9.86626239577 m.\n",
      "       y = 10.9795336246 m.\n",
      "t = 7 s.\n",
      "       x = 9.83901239577 m.\n",
      "       y = 11.4205336246 m.\n",
      "t = 8 s.\n",
      "       x = 9.81921411188 m.\n",
      "       y = 11.8399495483 m.\n",
      "t = 9 s.\n",
      "       x = 9.80699119952 m.\n",
      "       y = 12.2290867226 m.\n",
      "t = 10 s.\n",
      "       x = 9.80699119952 m.\n",
      "       y = 12.5118114289 m.\n",
      "t = 11 s.\n",
      "       x = 9.82102845044 m.\n",
      "       y = 12.672809283 m.\n",
      "t = 12 s.\n",
      "       x = 9.84772888834 m.\n",
      "       y = 12.672809283 m.\n",
      "t = 13 s.\n",
      "       x = 9.88447888834 m.\n",
      "       y = 12.5118114289 m.\n",
      "t = 14 s.\n",
      "       x = 9.92768110438 m.\n",
      "       y = 12.2055753125 m.\n",
      "t = 15 s.\n",
      "       x = 9.96723527966 m.\n",
      "       y = 11.8164381382 m.\n",
      "t = 16 s.\n",
      "       x = 10.0048535358 m.\n",
      "       y = 11.3589799539 m.\n",
      "t = 17 s.\n",
      "       x = 10.0321035358 m.\n",
      "       y = 10.9179799539 m.\n",
      "t = 18 s.\n",
      "       x = 10.0519018197 m.\n",
      "       y = 10.4985640302 m.\n",
      "t = 19 s.\n",
      "       x = 10.060496055 m.\n",
      "       y = 10.1741482154 m.\n",
      "-------------------Trayectoria con puntos iniciales en x = 20m, y = 20m.------------\n",
      "t = 0 s.\n",
      "       x = 20 m.\n",
      "       y = 20 m.\n",
      "t = 1 s.\n",
      "       x = 19.9309784598 m.\n",
      "       y = 19.8145125491 m.\n",
      "t = 2 s.\n",
      "       x = 19.7996916888 m.\n",
      "       y = 19.8145125491 m.\n",
      "t = 3 s.\n",
      "       x = 19.6189909507 m.\n",
      "       y = 20.0 m.\n",
      "t = 4 s.\n",
      "       x = 19.4065644928 m.\n",
      "       y = 20.3528180977 m.\n",
      "t = 5 s.\n",
      "       x = 19.1935348926 m.\n",
      "       y = 20.8546327386 m.\n",
      "t = 6 s.\n",
      "       x = 18.9711525 m.\n",
      "       y = 21.4740339813 m.\n",
      "t = 7 s.\n",
      "       x = 18.7819827379 m.\n",
      "       y = 22.1253109896 m.\n",
      "t = 8 s.\n",
      "       x = 18.6323186409 m.\n",
      "       y = 22.7741949843 m.\n",
      "t = 9 s.\n",
      "       x = 18.5472089161 m.\n",
      "       y = 23.3512482057 m.\n",
      "t = 10 s.\n",
      "       x = 18.5472089161 m.\n",
      "       y = 23.770501912 m.\n",
      "t = 11 s.\n",
      "       x = 18.6387452936 m.\n",
      "       y = 24.0004961561 m.\n",
      "t = 12 s.\n",
      "       x = 18.8128578303 m.\n",
      "       y = 24.0004961561 m.\n",
      "t = 13 s.\n",
      "       x = 19.0525031779 m.\n",
      "       y = 23.770501912 m.\n",
      "t = 14 s.\n",
      "       x = 19.3342231801 m.\n",
      "       y = 23.3330268629 m.\n",
      "t = 15 s.\n",
      "       x = 19.6096440353 m.\n",
      "       y = 22.7559736415 m.\n",
      "t = 16 s.\n",
      "       x = 19.8874754815 m.\n",
      "       y = 22.0995068811 m.\n",
      "t = 17 s.\n",
      "       x = 20.1052674237 m.\n",
      "       y = 21.4392568811 m.\n",
      "t = 18 s.\n",
      "       x = 20.2500283634 m.\n",
      "       y = 20.8398535117 m.\n",
      "t = 19 s.\n",
      "       x = 20.3261336932 m.\n",
      "       y = 20.329970551 m.\n",
      "-------------------Trayectoria con puntos iniciales en x = 30m, y = 30m.------------\n",
      "t = 0 s.\n",
      "       x = 30 m.\n",
      "       y = 30 m.\n",
      "t = 1 s.\n",
      "       x = 29.7825 m.\n",
      "       y = 29.8145554682 m.\n",
      "t = 2 s.\n",
      "       x = 29.3687904154 m.\n",
      "       y = 29.8145554682 m.\n",
      "t = 3 s.\n",
      "       x = 28.8132831794 m.\n",
      "       y = 30.0092729186 m.\n",
      "t = 4 s.\n",
      "       x = 28.1602452576 m.\n",
      "       y = 30.3796475188 m.\n",
      "t = 5 s.\n",
      "       x = 27.4929807893 m.\n",
      "       y = 30.913701926 m.\n",
      "t = 6 s.\n",
      "       x = 26.8409349984 m.\n",
      "       y = 31.5919356826 m.\n",
      "t = 7 s.\n",
      "       x = 26.2541085313 m.\n",
      "       y = 32.3280728568 m.\n",
      "t = 8 s.\n",
      "       x = 25.8444845111 m.\n",
      "       y = 33.0586249501 m.\n",
      "t = 9 s.\n",
      "       x = 25.617643971 m.\n",
      "       y = 33.6994860867 m.\n",
      "t = 10 s.\n",
      "       x = 25.617643971 m.\n",
      "       y = 34.1792058031 m.\n",
      "t = 11 s.\n",
      "       x = 25.8559729595 m.\n",
      "       y = 34.4314093831 m.\n",
      "t = 12 s.\n",
      "       x = 26.3093016346 m.\n",
      "       y = 34.4314093831 m.\n",
      "t = 13 s.\n",
      "       x = 26.933255027 m.\n",
      "       y = 34.1792058031 m.\n",
      "t = 14 s.\n",
      "       x = 27.6987311032 m.\n",
      "       y = 33.7194771068 m.\n",
      "t = 15 s.\n",
      "       x = 28.5355084849 m.\n",
      "       y = 33.1142292041 m.\n",
      "t = 16 s.\n",
      "       x = 29.3170498412 m.\n",
      "       y = 32.4550339519 m.\n",
      "t = 17 s.\n",
      "       x = 29.9454314442 m.\n",
      "       y = 31.7829150458 m.\n",
      "t = 18 s.\n",
      "       x = 30.4152533633 m.\n",
      "       y = 31.1741332025 m.\n",
      "t = 19 s.\n",
      "       x = 30.6475033633 m.\n",
      "       y = 30.6724527752 m.\n",
      "-------------------Trayectoria con puntos iniciales en x = 40m, y = 40m.------------\n",
      "t = 0 s.\n",
      "       x = 40 m.\n",
      "       y = 40 m.\n",
      "t = 1 s.\n",
      "       x = 39.5415275032 m.\n",
      "       y = 39.8763738887 m.\n",
      "t = 2 s.\n",
      "       x = 38.669460992 m.\n",
      "       y = 39.8763738887 m.\n",
      "t = 3 s.\n",
      "       x = 37.482768071 m.\n",
      "       y = 40.0123616829 m.\n",
      "t = 4 s.\n",
      "       x = 36.1289986329 m.\n",
      "       y = 40.3180529495 m.\n",
      "t = 5 s.\n",
      "       x = 34.7319456639 m.\n",
      "       y = 40.7711648905 m.\n",
      "t = 6 s.\n",
      "       x = 33.3727199762 m.\n",
      "       y = 41.3561422853 m.\n",
      "t = 7 s.\n",
      "       x = 32.2752646103 m.\n",
      "       y = 42.0532341126 m.\n",
      "t = 8 s.\n",
      "       x = 31.4702927689 m.\n",
      "       y = 42.7723257156 m.\n",
      "t = 9 s.\n",
      "       x = 31.0455155628 m.\n",
      "       y = 43.4333767849 m.\n",
      "t = 10 s.\n",
      "       x = 31.0455155628 m.\n",
      "       y = 43.9136584999 m.\n",
      "t = 11 s.\n",
      "       x = 31.4858832681 m.\n",
      "       y = 44.172028863 m.\n",
      "t = 12 s.\n",
      "       x = 32.3235124195 m.\n",
      "       y = 44.172028863 m.\n",
      "t = 13 s.\n",
      "       x = 33.5175286392 m.\n",
      "       y = 43.927257226 m.\n",
      "t = 14 s.\n",
      "       x = 35.0110122227 m.\n",
      "       y = 43.5134055619 m.\n",
      "t = 15 s.\n",
      "       x = 36.624625038 m.\n",
      "       y = 42.9793883034 m.\n",
      "t = 16 s.\n",
      "       x = 38.1695456733 m.\n",
      "       y = 42.4476782399 m.\n",
      "t = 17 s.\n",
      "       x = 39.4528073659 m.\n",
      "       y = 41.9436089878 m.\n",
      "t = 18 s.\n",
      "       x = 40.4001577601 m.\n",
      "       y = 41.5041583489 m.\n",
      "t = 19 s.\n",
      "       x = 40.9050652918 m.\n",
      "       y = 41.1643206477 m.\n",
      "-------------------Trayectoria con puntos iniciales en x = 50m, y = 50m.------------\n",
      "t = 0 s.\n",
      "       x = 50 m.\n",
      "       y = 50 m.\n",
      "t = 1 s.\n",
      "       x = 49.2429083638 m.\n",
      "       y = 49.9999876393 m.\n",
      "t = 2 s.\n",
      "       x = 47.8041325804 m.\n",
      "       y = 49.9999876393 m.\n",
      "t = 3 s.\n",
      "       x = 45.8291818316 m.\n",
      "       y = 50.030902751 m.\n",
      "t = 4 s.\n",
      "       x = 43.5325637246 m.\n",
      "       y = 50.1484875795 m.\n",
      "t = 5 s.\n",
      "       x = 41.1613223014 m.\n",
      "       y = 50.3912344659 m.\n",
      "t = 6 s.\n",
      "       x = 38.9977298404 m.\n",
      "       y = 50.8192664751 m.\n",
      "t = 7 s.\n",
      "       x = 37.1663102329 m.\n",
      "       y = 51.3803322213 m.\n",
      "t = 8 s.\n",
      "       x = 35.896462272 m.\n",
      "       y = 52.0109521625 m.\n",
      "t = 9 s.\n",
      "       x = 35.2265240529 m.\n",
      "       y = 52.5999789586 m.\n",
      "t = 10 s.\n",
      "       x = 35.2265240529 m.\n",
      "       y = 53.0673162166 m.\n",
      "t = 11 s.\n",
      "       x = 35.8961415894 m.\n",
      "       y = 53.313009953 m.\n",
      "t = 12 s.\n",
      "       x = 37.2082007308 m.\n",
      "       y = 53.313009953 m.\n",
      "t = 13 s.\n",
      "       x = 39.0643984529 m.\n",
      "       y = 53.1000746714 m.\n",
      "t = 14 s.\n",
      "       x = 41.355165266 m.\n",
      "       y = 52.7573572247 m.\n",
      "t = 15 s.\n",
      "       x = 43.863452373 m.\n",
      "       y = 52.3714079912 m.\n",
      "t = 16 s.\n",
      "       x = 46.2811896404 m.\n",
      "       y = 52.0746292333 m.\n",
      "t = 17 s.\n",
      "       x = 48.3808897426 m.\n",
      "       y = 51.8665819743 m.\n",
      "t = 18 s.\n",
      "       x = 49.9272342769 m.\n",
      "       y = 51.7676308182 m.\n",
      "t = 19 s.\n",
      "       x = 50.745511278 m.\n",
      "       y = 51.7675984575 m.\n",
      "-------------------Trayectoria con puntos iniciales en x = 60m, y = 60m.------------\n",
      "t = 0 s.\n",
      "       x = 60 m.\n",
      "       y = 60 m.\n",
      "t = 1 s.\n",
      "       x = 58.9596201034 m.\n",
      "       y = 60.1854016128 m.\n",
      "t = 2 s.\n",
      "       x = 56.9620440592 m.\n",
      "       y = 60.1854016128 m.\n",
      "t = 3 s.\n",
      "       x = 54.1742021693 m.\n",
      "       y = 60.0556239863 m.\n",
      "t = 4 s.\n",
      "       x = 50.8679779101 m.\n",
      "       y = 59.914575683 m.\n",
      "t = 5 s.\n",
      "       x = 47.4106847178 m.\n",
      "       y = 59.8660657674 m.\n",
      "t = 6 s.\n",
      "       x = 44.218901594 m.\n",
      "       y = 60.0372989941 m.\n",
      "t = 7 s.\n",
      "       x = 41.6091492259 m.\n",
      "       y = 60.397350647 m.\n",
      "t = 8 s.\n",
      "       x = 39.7782196508 m.\n",
      "       y = 60.8539116896 m.\n",
      "t = 9 s.\n",
      "       x = 38.8321792872 m.\n",
      "       y = 61.3474626197 m.\n",
      "t = 10 s.\n",
      "       x = 38.8321792872 m.\n",
      "       y = 61.7419051686 m.\n",
      "t = 11 s.\n",
      "       x = 39.7779830103 m.\n",
      "       y = 61.9526750755 m.\n",
      "t = 12 s.\n",
      "       x = 41.6216210578 m.\n",
      "       y = 61.9526750755 m.\n",
      "t = 13 s.\n",
      "       x = 44.2717570621 m.\n",
      "       y = 61.7993851283 m.\n",
      "t = 14 s.\n",
      "       x = 47.5022576305 m.\n",
      "       y = 61.5806986537 m.\n",
      "t = 15 s.\n",
      "       x = 51.0811814786 m.\n",
      "       y = 61.4803454328 m.\n",
      "t = 16 s.\n",
      "       x = 54.4652720078 m.\n",
      "       y = 61.5383233152 m.\n",
      "t = 17 s.\n",
      "       x = 57.4494788044 m.\n",
      "       y = 61.7862890217 m.\n",
      "t = 18 s.\n",
      "       x = 59.6046047613 m.\n",
      "       y = 62.1990182775 m.\n",
      "t = 19 s.\n",
      "       x = 60.7149311029 m.\n",
      "       y = 62.7005863413 m.\n",
      "-------------------Trayectoria con puntos iniciales en x = 70m, y = 70m.------------\n",
      "t = 0 s.\n",
      "       x = 70 m.\n",
      "       y = 70 m.\n",
      "t = 1 s.\n",
      "       x = 68.7925 m.\n",
      "       y = 70.4326174857 m.\n",
      "t = 2 s.\n",
      "       x = 66.4449021056 m.\n",
      "       y = 70.4326174857 m.\n",
      "t = 3 s.\n",
      "       x = 63.0320312647 m.\n",
      "       y = 70.086525546 m.\n",
      "t = 4 s.\n",
      "       x = 58.8589998764 m.\n",
      "       y = 69.5516557758 m.\n",
      "t = 5 s.\n",
      "       x = 54.3369769105 m.\n",
      "       y = 69.0419983103 m.\n",
      "t = 6 s.\n",
      "       x = 50.1221071143 m.\n",
      "       y = 68.7795393269 m.\n",
      "t = 7 s.\n",
      "       x = 46.6182545117 m.\n",
      "       y = 68.7795793269 m.\n",
      "t = 8 s.\n",
      "       x = 44.1558312083 m.\n",
      "       y = 68.9764910795 m.\n",
      "t = 9 s.\n",
      "       x = 42.9213199816 m.\n",
      "       y = 69.3114659032 m.\n",
      "t = 10 s.\n",
      "       x = 42.9213199816 m.\n",
      "       y = 69.5953979695 m.\n",
      "t = 11 s.\n",
      "       x = 44.158078501 m.\n",
      "       y = 69.7468330094 m.\n",
      "t = 12 s.\n",
      "       x = 46.5564899288 m.\n",
      "       y = 69.7468330094 m.\n",
      "t = 13 s.\n",
      "       x = 50.0206295131 m.\n",
      "       y = 69.6819254515 m.\n",
      "t = 14 s.\n",
      "       x = 54.2338098803 m.\n",
      "       y = 69.6819019401 m.\n",
      "t = 15 s.\n",
      "       x = 58.7717425241 m.\n",
      "       y = 69.9083989545 m.\n",
      "t = 16 s.\n",
      "       x = 63.0724419326 m.\n",
      "       y = 70.5075372384 m.\n",
      "t = 17 s.\n",
      "       x = 66.7150443425 m.\n",
      "       y = 71.4305120431 m.\n",
      "t = 18 s.\n",
      "       x = 69.2214288424 m.\n",
      "       y = 72.5784160719 m.\n",
      "t = 19 s.\n",
      "       x = 70.560678277 m.\n",
      "       y = 73.7005056505 m.\n",
      "-------------------Trayectoria con puntos iniciales en x = 80m, y = 80m.------------\n",
      "t = 0 s.\n",
      "       x = 80 m.\n",
      "       y = 80 m.\n",
      "t = 1 s.\n",
      "       x = 78.8520628058 m.\n",
      "       y = 80.7416359581 m.\n",
      "t = 2 s.\n",
      "       x = 76.5190337646 m.\n",
      "       y = 80.7416359581 m.\n",
      "t = 3 s.\n",
      "       x = 73.0607127214 m.\n",
      "       y = 80.0658210034 m.\n",
      "t = 4 s.\n",
      "       x = 68.5869937335 m.\n",
      "       y = 78.9843071691 m.\n",
      "t = 5 s.\n",
      "       x = 63.5732312922 m.\n",
      "       y = 77.7699896531 m.\n",
      "t = 6 s.\n",
      "       x = 58.5734842223 m.\n",
      "       y = 76.7314591565 m.\n",
      "t = 7 s.\n",
      "       x = 54.2788146806 m.\n",
      "       y = 76.0384878839 m.\n",
      "t = 8 s.\n",
      "       x = 51.2371022463 m.\n",
      "       y = 75.749399318 m.\n",
      "t = 9 s.\n",
      "       x = 49.6696148421 m.\n",
      "       y = 75.6879451305 m.\n",
      "t = 10 s.\n",
      "       x = 49.6696148421 m.\n",
      "       y = 75.6879686419 m.\n",
      "t = 11 s.\n",
      "       x = 51.2221162218 m.\n",
      "       y = 75.6879810026 m.\n",
      "t = 12 s.\n",
      "       x = 54.2036544417 m.\n",
      "       y = 75.6879810026 m.\n",
      "t = 13 s.\n",
      "       x = 58.3902124436 m.\n",
      "       y = 75.7819115716 m.\n",
      "t = 14 s.\n",
      "       x = 63.3424617534 m.\n",
      "       y = 76.1392675322 m.\n",
      "t = 15 s.\n",
      "       x = 68.418562588 m.\n",
      "       y = 76.9385559392 m.\n",
      "t = 16 s.\n",
      "       x = 73.0526962219 m.\n",
      "       y = 78.256699703 m.\n",
      "t = 17 s.\n",
      "       x = 76.6822816404 m.\n",
      "       y = 80.0506809377 m.\n",
      "t = 18 s.\n",
      "       x = 79.1354264215 m.\n",
      "       y = 82.1049469722 m.\n",
      "t = 19 s.\n",
      "       x = 80.3917079691 m.\n",
      "       y = 84.0287764219 m.\n",
      "-------------------Trayectoria con puntos iniciales en x = 90m, y = 90m.------------\n",
      "t = 0 s.\n",
      "       x = 90 m.\n",
      "       y = 90 m.\n",
      "t = 1 s.\n",
      "       x = 89.2351130625 m.\n",
      "       y = 91.1124573647 m.\n",
      "t = 2 s.\n",
      "       x = 87.6052382725 m.\n",
      "       y = 91.1124573647 m.\n",
      "t = 3 s.\n",
      "       x = 85.1687808767 m.\n",
      "       y = 90.0438805886 m.\n",
      "t = 4 s.\n",
      "       x = 81.7210924512 m.\n",
      "       y = 88.1923651793 m.\n",
      "t = 5 s.\n",
      "       x = 77.6380922734 m.\n",
      "       y = 85.9141853549 m.\n",
      "t = 6 s.\n",
      "       x = 73.245376945 m.\n",
      "       y = 83.6240568958 m.\n",
      "t = 7 s.\n",
      "       x = 69.0878297618 m.\n",
      "       y = 81.692075661 m.\n",
      "t = 8 s.\n",
      "       x = 65.9410082313 m.\n",
      "       y = 80.2103495846 m.\n",
      "t = 9 s.\n",
      "       x = 64.2826678794 m.\n",
      "       y = 79.1748264043 m.\n",
      "t = 10 s.\n",
      "       x = 64.2826678794 m.\n",
      "       y = 78.5247502655 m.\n",
      "t = 11 s.\n",
      "       x = 65.9426942595 m.\n",
      "       y = 78.1829850141 m.\n",
      "t = 12 s.\n",
      "       x = 68.9620940579 m.\n",
      "       y = 78.1829850141 m.\n",
      "t = 13 s.\n",
      "       x = 72.9266433317 m.\n",
      "       y = 78.6409417091 m.\n",
      "t = 14 s.\n",
      "       x = 77.2969196066 m.\n",
      "       y = 79.7089364826 m.\n",
      "t = 15 s.\n",
      "       x = 81.4704587887 m.\n",
      "       y = 81.4563995454 m.\n",
      "t = 16 s.\n",
      "       x = 84.9344922123 m.\n",
      "       y = 83.8444879622 m.\n",
      "t = 17 s.\n",
      "       x = 87.4948431245 m.\n",
      "       y = 86.7844741214 m.\n",
      "t = 18 s.\n",
      "       x = 89.2414237946 m.\n",
      "       y = 89.8459124822 m.\n",
      "t = 19 s.\n",
      "       x = 90.0797720685 m.\n",
      "       y = 92.6855519188 m.\n"
     ]
    }
   ],
   "source": [
    "# Pondemos puntos iniciales en x=y para x=10,20,30,40,50,60,70,80 y 90\n",
    "\n",
    "pix = np.arange(10,100,10)\n",
    "piy = pix\n",
    "\n",
    "\n",
    "#Creamos listas que van a contener todos los puntos en x y en y de las trayectorias para cada punto inicial.\n",
    "trayectoriasx = [] \n",
    "trayectoriasy = [] \n",
    "# iteramos en todos los puntos iniciales\n",
    "for pi in range(len(pix)):\n",
    "    \n",
    "    print '-------------------Trayectoria con puntos iniciales en x = '+str(pix[pi])+'m, y = '+str(piy[pi])+'m.------------'\n",
    "    \n",
    "    trayectoria_tempx = []\n",
    "    trayectoria_tempy = []\n",
    "    \n",
    "    trayectoria_tempx.append(pix[pi])\n",
    "    trayectoria_tempy.append(piy[pi])\n",
    "    utemp,vtemp = obt_vel(U[ti],V[ti],xx,yy,piy[pi],pix[pi])\n",
    "    newx = pix[pi]\n",
    "    newy = piy[pi]\n",
    "    for ti in range(len(t)):\n",
    "        \n",
    "        print 't = '+str(t[ti])+' s.'\n",
    "        print '       x = '+str(newx)+' m.'\n",
    "        print '       y = '+str(newy)+' m.'\n",
    "        \n",
    "\n",
    "        utemp,vtemp = obt_vel(U[ti],V[ti],xx,yy,newx,newy)\n",
    "#         print utemp,vtemp\n",
    "        newx = trayectoria_tempx[ti]+utemp*dt\n",
    "        newy = trayectoria_tempy[ti]+vtemp*dt\n",
    "        trayectoria_tempx.append(newx)\n",
    "        trayectoria_tempy.append(newy)\n",
    "    trayectoriasx.append(trayectoria_tempx)\n",
    "    trayectoriasy.append(trayectoria_tempy)"
   ]
  },
  {
   "cell_type": "code",
   "execution_count": 367,
   "metadata": {},
   "outputs": [
    {
     "data": {
      "image/png": "[encoded data removed]",
      "text/plain": [
       "<matplotlib.figure.Figure at 0x7f840ee66a50>"
      ]
     },
     "metadata": {
      "needs_background": "light"
     },
     "output_type": "display_data"
    }
   ],
   "source": [
    "for i in range(len(trayectoriasx)):\n",
    "    plt.plot(trayectoriasx[i],trayectoriasy[i],label='PI X=Y= '+str(pix[i])+' m.',lw=2)\n",
    "    plt.scatter(trayectoriasx[i][0],trayectoriasy[i][0],marker='o',color='k',s=30)\n",
    "    \n",
    "    \n",
    "plt.plot(pix,piy,'--',color='k')\n",
    "plt.grid()\n",
    "plt.title('Trayectorias')\n",
    "plt.ylabel('Y [m]')\n",
    "# plt.grid()\n",
    "plt.xlabel('X [m]')\n",
    "plt.xlim(0,120)\n",
    "plt.ylim(0,100)\n",
    "plt.axes().set_aspect('equal')\n",
    "plt.legend()\n",
    "plt.show()"
   ]
  },
  {
   "cell_type": "markdown",
   "metadata": {},
   "source": [
    "# Análisis de volúmenes de control finitos."
   ]
  },
  {
   "cell_type": "markdown",
   "metadata": {},
   "source": [
    "## 1."
   ]
  },
  {
   "cell_type": "markdown",
   "metadata": {},
   "source": [
    "Para medir el flujo másico de aire a través de una tubería de 6 pulgadas de diámetro interno, la velocidad local es medida en diferentes radios desde el eje de la tubería. Determine el flujo másico correspondiente a los datos mostrados en la tabla."
   ]
  },
  {
   "cell_type": "markdown",
   "metadata": {},
   "source": [
    "<img src=\"FigurasEjercicios/5_1.png\">"
   ]
  },
  {
   "cell_type": "markdown",
   "metadata": {},
   "source": [
    "#### Desarrollo"
   ]
  },
  {
   "cell_type": "markdown",
   "metadata": {},
   "source": [
    "El flujo másico es calculado como:\n",
    "\n",
    "\\begin{equation}\n",
    "    \\dot{m} = \\int_{0}^{R} \\, \\rho \\, u \\, 2 \\, \\pi \\, r \\, dr\n",
    "     =  2 \\, \\pi \\, \\rho \\int_{0}^{R} \\, u \\, r \\, dr\n",
    "\\end{equation} \n",
    "\n",
    "Donde $R = 3 in$, $\\rho = 0.00238 slug/ft3$, $u = velocidad \\, axial \\, local \\, [ft/s]$, $r = radio \\, local \\, [in]$."
   ]
  },
  {
   "cell_type": "code",
   "execution_count": 371,
   "metadata": {},
   "outputs": [],
   "source": [
    "# Se evalúa la integral para todos los intervalos.\n",
    "u=np.array([30,29.71,29.39,29.06,28.7,28.31,27.89,27.42,26.9,26.32,25.64,24.84,23.84,22.5,20.38,18.45,16.71,14.66,0])\n",
    "r=np.array([0,0.2,0.4,0.6,0.8,1,1.2,1.4,1.6,1.8,2,2.2,2.4,2.6,2.8,2.9,2.95,2.98,3])\n",
    "# np.trapz()"
   ]
  },
  {
   "cell_type": "code",
   "execution_count": 391,
   "metadata": {},
   "outputs": [],
   "source": [
    "#Podemos integrar manualmente con la regla del trapezio\n",
    "suma=0\n",
    "for i in range(1,len(u)):\n",
    "    suma=suma+(u[i-1]*r[i-1]+u[i]*r[i])*(r[i]-r[i-1])/2."
   ]
  },
  {
   "cell_type": "code",
   "execution_count": 396,
   "metadata": {},
   "outputs": [
    {
     "name": "stdout",
     "output_type": "stream",
     "text": [
      "La integral es igual a: \n",
      "109.700425\n"
     ]
    }
   ],
   "source": [
    "print 'La integral es igual a: '\n",
    "print suma"
   ]
  },
  {
   "cell_type": "code",
   "execution_count": 395,
   "metadata": {},
   "outputs": [
    {
     "name": "stdout",
     "output_type": "stream",
     "text": [
      "O con numpy, la integral es igual a: \n",
      "109.700425\n"
     ]
    }
   ],
   "source": [
    "print 'O con numpy, la integral es igual a: '\n",
    "inte = np.trapz(u*r,r)\n",
    "print inte"
   ]
  },
  {
   "cell_type": "code",
   "execution_count": 397,
   "metadata": {},
   "outputs": [
    {
     "name": "stdout",
     "output_type": "stream",
     "text": [
      "De esa manera ,el flujo másico es:\n",
      "1.64045807455\n",
      "slugs/s\n"
     ]
    }
   ],
   "source": [
    "print 'De esa manera ,el flujo másico es:'\n",
    "print suma*0.00238*2*np.pi\n",
    "print 'slugs/s'"
   ]
  },
  {
   "cell_type": "markdown",
   "metadata": {},
   "source": [
    "## 2."
   ]
  },
  {
   "cell_type": "markdown",
   "metadata": {},
   "source": [
    "Se muestran los valores medidos del aumento en la cabeza total para aire fluyendo a través de un ventilador."
   ]
  },
  {
   "cell_type": "markdown",
   "metadata": {},
   "source": [
    "<img src=\"FigurasEjercicios/5_2.png\">"
   ]
  },
  {
   "cell_type": "markdown",
   "metadata": {},
   "source": [
    "Determine el caludal que resultaría cuando se conecta el ventilador a un sistema de tuberías cuyas pérdidas en cabeza total están dadas por $k_{l} Q^{2}$, cuando (a) $k_l=49 mm H_2O/(m^{3}/s)^{2}$, (b) $k_l=91 mm H_2O/(m^{3}/s)^{2}$ y (c) $k_l=140 mm H_2O/(m^{3}/s)^{2}$."
   ]
  },
  {
   "cell_type": "markdown",
   "metadata": {},
   "source": [
    "#### Desarrollo"
   ]
  },
  {
   "cell_type": "markdown",
   "metadata": {},
   "source": [
    "El caudal de la combinación entre un ventilador o bomba conectada a un sistema de tuberías es determinado por la intersección  entre la curva de cabeza ventilador o bomba vs. el caudal, y la curva de pérdidas del sistema vs. el caudal. \n",
    "\n",
    "Para determinar el caudal resultante cuando el ventilador mencionado se conecta a los ramales (a), (b) y (c), se determinan las intersecciones mencionadas."
   ]
  },
  {
   "cell_type": "markdown",
   "metadata": {},
   "source": [
    "Inicialmente, se ajustan los datos de la tabla a un polinomio de orden 7 (puede ser de mayor o menor orden, para que se ajuste a los datos)."
   ]
  },
  {
   "cell_type": "code",
   "execution_count": 424,
   "metadata": {},
   "outputs": [],
   "source": [
    "# Para la primera curva, x es el caudal Q, y y es el aumento en la cabeza HR.\n",
    "\n",
    "x1 = np.array([0,0.14,0.28,0.42,0.57,0.71,0.85,0.99,1.13,1.27])\n",
    "y1 = np.array([79,79,76,67,65,70,76,79,75,64])"
   ]
  },
  {
   "cell_type": "code",
   "execution_count": 425,
   "metadata": {},
   "outputs": [
    {
     "data": {
      "text/plain": [
       "Text(0.5,0,u'Caudal [m3/s]')"
      ]
     },
     "execution_count": 425,
     "metadata": {},
     "output_type": "execute_result"
    },
    {
     "data": {
      "image/png": "[encoded data removed]",
      "text/plain": [
       "<matplotlib.figure.Figure at 0x7f840eccf8d0>"
      ]
     },
     "metadata": {
      "needs_background": "light"
     },
     "output_type": "display_data"
    }
   ],
   "source": [
    "plt.plot(x1,y1)\n",
    "plt.grid()\n",
    "plt.ylabel('Aumento en la cabeza [mm de agua]')\n",
    "plt.xlabel('Caudal [m3/s]')"
   ]
  },
  {
   "cell_type": "code",
   "execution_count": 426,
   "metadata": {},
   "outputs": [
    {
     "name": "stdout",
     "output_type": "stream",
     "text": [
      "Los coeficientes del polinomio son: \n",
      "[ -1736.919282     8262.04155394 -15351.27368581  13785.78679973\n",
      "  -5951.94773656   1054.057373      -62.16795513     78.98059615]\n"
     ]
    }
   ],
   "source": [
    "#Los coeficientes del polinomio se hallan así:\n",
    "orden = 7\n",
    "coeficientes = np.polyfit(x1,y1,7)\n",
    "\n",
    "print 'Los coeficientes del polinomio son: '\n",
    "print coeficientes"
   ]
  },
  {
   "cell_type": "code",
   "execution_count": 427,
   "metadata": {},
   "outputs": [],
   "source": [
    "def poly_eval(x,coeficientes):\n",
    "    suma = 0\n",
    "    for i in range(1,len(coeficientes)+1):\n",
    "#         print len(coeficientes)-i\n",
    "        suma = suma+(x**(len(coeficientes)-i))*coeficientes[i-1]\n",
    "    return suma"
   ]
  },
  {
   "cell_type": "code",
   "execution_count": 435,
   "metadata": {},
   "outputs": [],
   "source": [
    "x_test=np.arange(0,1.3,0.01)\n",
    "y_test = np.array([poly_eval(x_test[i],coeficientes) for i in range(len(x_test))])"
   ]
  },
  {
   "cell_type": "code",
   "execution_count": 439,
   "metadata": {},
   "outputs": [
    {
     "data": {
      "image/png": "[encoded data removed]",
      "text/plain": [
       "<matplotlib.figure.Figure at 0x7f840f4f2490>"
      ]
     },
     "metadata": {
      "needs_background": "light"
     },
     "output_type": "display_data"
    }
   ],
   "source": [
    "\n",
    "\n",
    "plt.plot(x1,y1,'*',label='Datos')\n",
    "plt.plot(x_test,y_test,label='Polinomio ajustado')\n",
    "plt.grid()\n",
    "plt.ylabel('Aumento en la cabeza [mm de agua]')\n",
    "plt.xlabel('Caudal [m3/s]')\n",
    "plt.legend()\n",
    "plt.show()"
   ]
  },
  {
   "cell_type": "markdown",
   "metadata": {},
   "source": [
    "Ahora debemos encontrar la intersección entre dos funciones, para ello, igualamos el polinomio a la curva de pérdidas, así:\n",
    "\n",
    "\\begin{equation}\n",
    "    c_{0}x^{0}+c_{1}x^{1}+...+c_{n}x^{n} - k_{l}x^{2} = 0\n",
    "\\end{equation}"
   ]
  },
  {
   "cell_type": "markdown",
   "metadata": {},
   "source": [
    "Se encontrará el caudal a partir del método de Newton-Raphson, para ello, creamos inicialmente una función que contenga la expresión mostrada anteriormente."
   ]
  },
  {
   "cell_type": "code",
   "execution_count": 440,
   "metadata": {},
   "outputs": [],
   "source": [
    "def func_poly(x,coeficientes,k):\n",
    "    return poly_eval(x,coeficientes)-k*(x**2)"
   ]
  },
  {
   "cell_type": "code",
   "execution_count": 458,
   "metadata": {},
   "outputs": [],
   "source": [
    "#Calculo la derivada de la función en el punto x\n",
    "\n",
    "def derivative(x,coeficientes,k): \n",
    "    h = 0.000001\n",
    "    derivative = (func_poly(x+h,coeficientes,k) - func_poly(x,coeficientes,k)) / h\n",
    "    return derivative"
   ]
  },
  {
   "cell_type": "code",
   "execution_count": 466,
   "metadata": {},
   "outputs": [],
   "source": [
    "# Función que devuelve cada paso de la operación de Newton-Raphson\n",
    "\n",
    "def newton_raphson(x,coeficientes,k):\n",
    "    return (x - (func_poly(x,coeficientes,k) / derivative(x,coeficientes,k)))\n",
    " \n",
    "#Función que itera n veces para encontrar la solución, con un valor de x inical de p\n",
    "\n",
    "def iterate(p, n,coeficientes,k):\n",
    "    x = p\n",
    "    for _ in range(n):\n",
    "        x = newton_raphson(x,coeficientes,k)\n",
    "    return x"
   ]
  },
  {
   "cell_type": "code",
   "execution_count": 472,
   "metadata": {},
   "outputs": [
    {
     "name": "stdout",
     "output_type": "stream",
     "text": [
      "('Para k = 49, el caudal es de  ', 1.2033934139360194, 'm3/s')\n",
      "('y por lo tanto, la cabeza operativa es ', 70.959629726527169, 'mm de agua.')\n"
     ]
    }
   ],
   "source": [
    "print(\"Para k = 49, el caudal es de  \",iterate(1, 1000,coeficientes,49),\"m3/s\")\n",
    "print(\"y por lo tanto, la cabeza operativa es \",poly_eval(iterate(1, 1000,coeficientes,49),coeficientes),\"mm de agua.\")"
   ]
  },
  {
   "cell_type": "code",
   "execution_count": 473,
   "metadata": {},
   "outputs": [
    {
     "name": "stdout",
     "output_type": "stream",
     "text": [
      "('Para k = 91, el caudal es de  ', 0.92845920538487914, 'm3/s')\n",
      "('y por lo tanto, la cabeza operativa es ', 78.445321141815484, 'mm de agua.')\n"
     ]
    }
   ],
   "source": [
    "print(\"Para k = 91, el caudal es de  \",iterate(1, 1000,coeficientes,91),\"m3/s\")\n",
    "print(\"y por lo tanto, la cabeza operativa es \",poly_eval(iterate(1, 1000,coeficientes,91),coeficientes),\"mm de agua.\")"
   ]
  },
  {
   "cell_type": "code",
   "execution_count": 474,
   "metadata": {},
   "outputs": [
    {
     "name": "stdout",
     "output_type": "stream",
     "text": [
      "('Para k = 140, el caudal es de  ', 0.70472050793158658, 'm3/s')\n",
      "('y por lo tanto, la cabeza operativa es ', 69.528339201909475, 'mm de agua.')\n"
     ]
    }
   ],
   "source": [
    "print(\"Para k = 140, el caudal es de  \",iterate(1, 1000,coeficientes,140),\"m3/s\")\n",
    "print(\"y por lo tanto, la cabeza operativa es \",poly_eval(iterate(1, 1000,coeficientes,140),coeficientes),\"mm de agua.\")"
   ]
  },
  {
   "cell_type": "markdown",
   "metadata": {},
   "source": [
    "# Análisis dimensional"
   ]
  },
  {
   "cell_type": "markdown",
   "metadata": {},
   "source": [
    "## 1."
   ]
  },
  {
   "cell_type": "markdown",
   "metadata": {},
   "source": [
    "<img src=\"FigurasEjercicios/6_1.png\">"
   ]
  },
  {
   "cell_type": "markdown",
   "metadata": {},
   "source": [
    "El aumento en la presión, $\\Delta p = p_{2}-p_{1}$, en una expansión como la que se muestra en la figura por la que pasa cierto fluido, puede ser expresada como:\n",
    "\n",
    "\\begin{equation}\n",
    "    \\Delta p =  f(A_{1},A_{2},\\rho,V_{1})\n",
    "\\end{equation}\n",
    "\n",
    "donde $A_{1}$ y $A_{2}$ son las áreas de las secciones transversales antes y después de a expansión respectivamente, $\\rho$ es la densidad del fluido, $V_{1}$ es la velocidad corriente arriba de la expansión.\n",
    "\n",
    "Se realizaron experimentos con $A_{2}=1.25 ft^{2}$, $V_{1}=5 ft/s$ y $\\rho=1.94 slugs/ft^{3}$, los datos obtenidos se muestran en la tabla."
   ]
  },
  {
   "cell_type": "markdown",
   "metadata": {},
   "source": [
    "<img src=\"FigurasEjercicios/6_1_1.png\">"
   ]
  },
  {
   "cell_type": "markdown",
   "metadata": {},
   "source": [
    "Plotee los resultados de los test, usando parámetros adimensionales. Aproxime una curva para determinar una ecuación general para $\\Delta p$ y use esta ecuación para predecir $\\Delta p$ en agua fluyendo a través de una expansión abrupta con una relación de área $A_{1}/A_{2} = 0.35$, y un avelocidad $V_{1}=3.75 ft/s$"
   ]
  },
  {
   "cell_type": "markdown",
   "metadata": {},
   "source": [
    "#### Desarrollo"
   ]
  },
  {
   "cell_type": "markdown",
   "metadata": {},
   "source": [
    "Las dimensiones que tenemos son:\n",
    "\n",
    "- $\\Delta p = F L^{-2}$\n",
    "- $A_{1} = L^{2}$\n",
    "- $A_{2} = L^{2}$\n",
    "- $\\rho = FL^{-4}T^{2}$\n",
    "- $V_{1} = LT^{-1}$\n",
    "\n",
    "Del teorema pi, 5-3=2 son los términos pi adimensionales requeridos."
   ]
  },
  {
   "cell_type": "markdown",
   "metadata": {},
   "source": [
    "Por inspección, se encuentra el término (que contiene a $\\Delta p$):\n",
    "\n",
    "\\begin{equation}\n",
    "    \\Pi_{1} = \\frac{\\Delta p}{\\rho V_{1}^{2}} = \\frac{FL^{-2}}{(FL^{-4}T^{2})(LT^{-1})^{2}} = F^{0}L^{0}T^{0}\n",
    "\\end{equation}\n",
    "\n",
    "Ahora, el segundo término, que contiene a $A_{1}$ y a $A_{2}$ es:\n",
    "\n",
    "\\begin{equation}\n",
    "    \\Pi_{2}=\\frac{A_{1}}{A_{2}}\n",
    "\\end{equation}\n",
    "\n",
    "Término obviamente adimensional, de esta manera, se tiene:\n",
    "\n",
    "\\begin{equation}\n",
    "    \\Pi_{1}=\\phi(\\Pi_{2})\n",
    "\\end{equation}"
   ]
  },
  {
   "cell_type": "code",
   "execution_count": 475,
   "metadata": {},
   "outputs": [],
   "source": [
    "# Se crean los arreglos contenedores de los datos:\n",
    "\n",
    "A1 = np.array([0.1,0.25,0.37,0.52,0.61])\n",
    "dP = np.array([3.25,7.85,10.3,11.6,12.3])"
   ]
  },
  {
   "cell_type": "code",
   "execution_count": 484,
   "metadata": {},
   "outputs": [],
   "source": [
    "# Se calculan los dos términos:\n",
    "\n",
    "Pi_1 = dP/(1.94*(5**2))\n",
    "Pi_2 = A1/1.25"
   ]
  },
  {
   "cell_type": "code",
   "execution_count": 485,
   "metadata": {},
   "outputs": [
    {
     "data": {
      "text/plain": [
       "array([ 0.06701031,  0.16185567,  0.21237113,  0.23917526,  0.25360825])"
      ]
     },
     "execution_count": 485,
     "metadata": {},
     "output_type": "execute_result"
    }
   ],
   "source": [
    "Pi_1"
   ]
  },
  {
   "cell_type": "code",
   "execution_count": 486,
   "metadata": {},
   "outputs": [
    {
     "data": {
      "image/png": "[encoded data removed]",
      "text/plain": [
       "<matplotlib.figure.Figure at 0x7f840ecc55d0>"
      ]
     },
     "metadata": {
      "needs_background": "light"
     },
     "output_type": "display_data"
    }
   ],
   "source": [
    "plt.plot(Pi_2,Pi_1)\n",
    "plt.grid()\n",
    "plt.xlabel('Pi 1')\n",
    "plt.ylabel('Pi 2')\n",
    "plt.show()"
   ]
  },
  {
   "cell_type": "code",
   "execution_count": 487,
   "metadata": {},
   "outputs": [],
   "source": [
    "# Se ajustan los datos a un polinomio de grado 2"
   ]
  },
  {
   "cell_type": "code",
   "execution_count": 491,
   "metadata": {},
   "outputs": [
    {
     "name": "stdout",
     "output_type": "stream",
     "text": [
      "Los coeficientes que se ajustan a la relación de orden 2 Pi_1 vs. Pi_2 son: \n",
      "[-1.107101    1.07537403 -0.01078475]\n"
     ]
    }
   ],
   "source": [
    "print 'Los coeficientes que se ajustan a la relación de orden 2 Pi_1 vs. Pi_2 son: '\n",
    "coeficientes = np.polyfit(Pi_2,Pi_1,2)\n",
    "print coeficientes"
   ]
  },
  {
   "cell_type": "markdown",
   "metadata": {},
   "source": [
    "Ahora, se puede calcular entonces para $A_{1}/A_{2} = 0.35$, y $V_{1}=3.75 ft/s$, con agua."
   ]
  },
  {
   "cell_type": "code",
   "execution_count": 492,
   "metadata": {},
   "outputs": [],
   "source": [
    "dPf = (1.94*(3.75**2))*(coeficientes[0]*0.35**2+coeficientes[1]*0.35+coeficientes[2])"
   ]
  },
  {
   "cell_type": "code",
   "execution_count": 494,
   "metadata": {},
   "outputs": [
    {
     "name": "stdout",
     "output_type": "stream",
     "text": [
      "El aumento en la presión es: \n",
      "6.27404051359\n"
     ]
    }
   ],
   "source": [
    "print 'El aumento en la presión es: '\n",
    "print dPf"
   ]
  },
  {
   "cell_type": "markdown",
   "metadata": {},
   "source": [
    "# Flujo viscoso en tuberías."
   ]
  },
  {
   "cell_type": "markdown",
   "metadata": {},
   "source": [
    "## 1."
   ]
  },
  {
   "cell_type": "markdown",
   "metadata": {},
   "source": [
    "En ocasiones, la ecuación siguiente es usada en lugar de la ecuación de Colebrook:\n",
    "\n",
    "\\begin{equation}\n",
    "    f= \\frac{1.325}{(ln(\\frac{\\epsilon}{3.7D}+\\frac{5.74}{Re^{0.9}}))^2}\n",
    "\\end{equation}\n",
    "\n",
    "para $10^{-6} \\leq \\frac{\\epsilon}{D} \\leq 10^{2}$, y $5000<Re<10^{8}$. Una ventaja de esta ecuación es que dado Re y $\\epsilon / D$, no se requiere iterar para obtener el coeficiente de fricción $f$. Grafique la diferencia en porcentaje del $f$, comparando con el obtenido a partir de la ecuación original de Colebrook para números de Reynolds dentro del rango mencionado anteriormente, con $\\frac{\\epsilon}{D} = 10^{-4}$."
   ]
  },
  {
   "cell_type": "markdown",
   "metadata": {},
   "source": [
    "#### Desarrollo"
   ]
  },
  {
   "cell_type": "markdown",
   "metadata": {},
   "source": [
    "Recordemos la ecuación de Colebrook original:\n",
    "\n",
    "\\begin{equation}\n",
    "    \\frac{1}{\\sqrt{f}}=-2log(\\frac{\\frac{\\epsilon}{D}}{3.7}+\\frac{2.51}{Re\\sqrt{f}})\n",
    "\\end{equation}"
   ]
  },
  {
   "cell_type": "markdown",
   "metadata": {},
   "source": [
    "Se calculará el error como:\n",
    "\n",
    "\\begin{equation}\n",
    "    \\Delta f = \\frac{f-f_{app}}{f}\n",
    "\\end{equation}\n",
    "\n",
    "donde $f_{app} $ es el resultado obtenido a partir de la aproximación, y $f$ es el obtenido a partir de la ecuación original de Colebrook."
   ]
  },
  {
   "cell_type": "code",
   "execution_count": 573,
   "metadata": {},
   "outputs": [],
   "source": [
    "# Tenemos que:\n",
    "\n",
    "e_d = 10**-4\n",
    "\n",
    "# Creamos un arreglo con los números de Reynolds para trabajar, \n",
    "# cuya magnitud aumenta multiplicando por 1.5 el número anterior.\n",
    "Re=[]\n",
    "Re.append(5000)\n",
    "for i in range(1,30):\n",
    "    Re.append(Re[-1]*1.5)\n",
    "Re=np.array(Re).astype(float)"
   ]
  },
  {
   "cell_type": "code",
   "execution_count": 574,
   "metadata": {},
   "outputs": [],
   "source": [
    "# Se calcula entonces fapp:\n",
    "\n",
    "fapp = 1.325/((np.log(e_d/3.7+5.74/Re**0.9))**2)"
   ]
  },
  {
   "cell_type": "code",
   "execution_count": 575,
   "metadata": {},
   "outputs": [],
   "source": [
    "# ahora definimos una función, que itere y encuentre el factor de fricción a partir de \n",
    "# la ecuación de Colebrook original.\n",
    "\n",
    "# inicialmente una función que devuelva el valor de f, dado uno inicial f0.\n",
    "def f_colebrook(f0,Rei,e_d):\n",
    "    return (1/(-2*np.log10((2.51/(Rei*np.sqrt(f0))) + (e_d/(3.7)))))**2\n",
    "\n",
    "# Ahora una función que itere:\n",
    "\n",
    "def iter_colebrook(f0,tol,Rei,e_d):\n",
    "    f=2 #cualquier número lejos del f0\n",
    "    while abs(f0-f)>tol:\n",
    "        f0=f\n",
    "        f=f_colebrook(f0,Rei,e_d)\n",
    "    return f"
   ]
  },
  {
   "cell_type": "code",
   "execution_count": 577,
   "metadata": {},
   "outputs": [
    {
     "name": "stdout",
     "output_type": "stream",
     "text": [
      "Re // f // fapp // delta f %\n",
      "                                \n",
      "5000.0 // 0.0375045942093 // 0.0379605091753 // -1.2156243138\n",
      "7500.0 // 0.033505435 // 0.0337193518491 // -0.638454176549\n",
      "11250.0 // 0.0301040800545 // 0.0301684134214 // -0.213703148225\n",
      "16875.0 // 0.0271946152235 // 0.027171138882 // 0.0863271692706\n",
      "25312.5 // 0.0246948619015 // 0.0246248332922 // 0.283575626441\n",
      "37968.75 // 0.0225401556516 // 0.0224515384334 // 0.39315264541\n",
      "56953.125 // 0.020680042684 // 0.0205917151417 // 0.42711489348\n",
      "85429.6875 // 0.0190752639502 // 0.0189997372515 // 0.395940517042\n",
      "128144.53125 // 0.0176950096016 // 0.0176405291259 // 0.307886104138\n",
      "192216.796875 // 0.016515787128 // 0.0164868771683 // 0.175044395311\n",
      "288325.195312 // 0.0155189905561 // 0.0155170941665 // 0.0122198001\n",
      "432487.792969 // 0.0146891366242 // 0.0147128749498 // -0.161604634844\n",
      "648731.689453 // 0.0140121605678 // 0.0140573804701 // -0.322718984308\n",
      "973097.53418 // 0.0134731326025 // 0.0135337790379 // -0.450128690728\n",
      "1459646.30127 // 0.0130555072449 // 0.0131245333308 // -0.528712401135\n",
      "2189469.4519 // 0.0127409336255 // 0.0128115509813 // -0.554255739347\n",
      "3284204.17786 // 0.0125102023584 // 0.0125769935421 // -0.533893711545\n",
      "4926306.26678 // 0.0123449245362 // 0.0124043021656 // -0.480988192584\n",
      "7389459.40018 // 0.0122288044621 // 0.0122790167699 // -0.41060684201\n",
      "11084189.1003 // 0.0121484442878 // 0.0121891786734 // -0.335305366159\n",
      "16626283.6504 // 0.0120934521619 // 0.0121253319649 // -0.263612098033\n",
      "24939425.4756 // 0.0120561290683 // 0.0120802582993 // -0.20014078171\n",
      "37409138.2134 // 0.0120309397608 // 0.0120485922798 // -0.146726019243\n",
      "56113707.3201 // 0.0120140069031 // 0.0120264234593 // -0.103350666946\n",
      "84170560.9801 // 0.0120026550636 // 0.0120109421341 // -0.0690436450571\n",
      "126255841.47 // 0.011995058733 // 0.0120001499879 // -0.0424446012108\n",
      "189383762.205 // 0.0119899817778 // 0.0119926360237 // -0.0221371970649\n",
      "284075643.308 // 0.0119865914524 // 0.0119874090136 // -0.00682063057528\n",
      "426113464.962 // 0.0119843286987 // 0.0119837751034 // 0.00461932696151\n",
      "639170197.443 // 0.0119828190662 // 0.0119812498125 // 0.0130958638033\n"
     ]
    }
   ],
   "source": [
    "#Ahora calculamos para todos los Reynolds\n",
    "\n",
    "f = []\n",
    "deltaf = []\n",
    "print \"Re // f // fapp // delta f %\"\n",
    "print \"                                \"\n",
    "for i in range(len(Re)):\n",
    "    f.append(iter_colebrook(0.02,0.000001,Re[i],e_d))\n",
    "    deltaf.append((f[-1]-fapp[i])*100/f[-1])\n",
    "    print str(Re[i])+' // '+str(f[-1])+' // '+str(fapp[i])+' // '+str(deltaf[-1])\n",
    "    \n",
    "f=np.array(f)\n",
    "deltaf=np.array(deltaf)"
   ]
  },
  {
   "cell_type": "code",
   "execution_count": 581,
   "metadata": {},
   "outputs": [
    {
     "data": {
      "image/png": "[encoded data removed]",
      "text/plain": [
       "<matplotlib.figure.Figure at 0x7f840e5f3290>"
      ]
     },
     "metadata": {
      "needs_background": "light"
     },
     "output_type": "display_data"
    }
   ],
   "source": [
    "plt.figure(figsize=(12,5))\n",
    "plt.plot(Re,deltaf)\n",
    "plt.xscale('log')\n",
    "plt.grid()\n",
    "plt.axhline(0,color='k')\n",
    "plt.xlabel('Re')\n",
    "plt.ylabel('Porcentaje de Error [%]')\n",
    "plt.ylim(-1.25,0.5)\n",
    "plt.show()"
   ]
  },
  {
   "cell_type": "code",
   "execution_count": null,
   "metadata": {},
   "outputs": [],
   "source": []
  },
  {
   "cell_type": "code",
   "execution_count": null,
   "metadata": {},
   "outputs": [],
   "source": []
  }
 ],
 "metadata": {
  "kernelspec": {
   "display_name": "Python 2",
   "language": "python",
   "name": "python2"
  },
  "language_info": {
   "codemirror_mode": {
    "name": "ipython",
    "version": 2
   },
   "file_extension": ".py",
   "mimetype": "text/x-python",
   "name": "python",
   "nbconvert_exporter": "python",
   "pygments_lexer": "ipython2",
   "version": "2.7.15+"
  }
 },
 "nbformat": 4,
 "nbformat_minor": 2
}
